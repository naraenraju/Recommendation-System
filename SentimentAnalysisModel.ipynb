{
  "nbformat": 4,
  "nbformat_minor": 0,
  "metadata": {
    "colab": {
      "name": "SentimentAnalysisModel.ipynb",
      "provenance": [],
      "collapsed_sections": []
    },
    "kernelspec": {
      "name": "python3",
      "display_name": "Python 3"
    },
    "language_info": {
      "name": "python"
    }
  },
  "cells": [
    {
      "cell_type": "code",
      "execution_count": 1,
      "metadata": {
        "id": "JqG5r0sYcVDu"
      },
      "outputs": [],
      "source": [
        "#general purpose libraries \n",
        "import re\n",
        "import time\n",
        "import pandas as pd\n",
        "import numpy as np\n",
        "import seaborn as sns\n",
        "import matplotlib.pyplot as plt\n",
        "from collections import Counter\n",
        "from datetime import datetime\n",
        "import warnings\n",
        "from imblearn.over_sampling import SMOTE\n",
        "from imblearn.under_sampling import RandomUnderSampler\n",
        "from imblearn.pipeline import Pipeline\n",
        "warnings.filterwarnings(\"ignore\") \n",
        "pd.set_option('display.max_columns', 200)\n",
        "pd.set_option('display.max_colwidth', 300)"
      ]
    },
    {
      "cell_type": "code",
      "source": [
        "from google.colab import drive\n",
        "drive.mount('/content/drive')"
      ],
      "metadata": {
        "id": "ox1HMnRTcgZ3",
        "colab": {
          "base_uri": "https://localhost:8080/"
        },
        "outputId": "29a0d662-6e70-4f85-c2a6-e962f33d327d"
      },
      "execution_count": 2,
      "outputs": [
        {
          "output_type": "stream",
          "name": "stdout",
          "text": [
            "Mounted at /content/drive\n"
          ]
        }
      ]
    },
    {
      "cell_type": "code",
      "source": [
        "# NLTK libraries\n",
        "import nltk\n",
        "nltk.download('stopwords')\n",
        "nltk.download('punkt')\n",
        "nltk.download('averaged_perceptron_tagger')\n",
        "nltk.download('wordnet')\n",
        "from nltk.corpus import stopwords\n",
        "from nltk import FreqDist\n",
        "from nltk.tokenize import word_tokenize\n",
        "from nltk.stem.wordnet import WordNetLemmatizer\n",
        "from nltk.corpus import wordnet\n",
        "import pickle"
      ],
      "metadata": {
        "id": "hr4kW08tcxdR",
        "colab": {
          "base_uri": "https://localhost:8080/"
        },
        "outputId": "03f812f1-c40f-47a3-c948-355ac2bf1100"
      },
      "execution_count": 3,
      "outputs": [
        {
          "output_type": "stream",
          "name": "stdout",
          "text": [
            "[nltk_data] Downloading package stopwords to /root/nltk_data...\n",
            "[nltk_data]   Unzipping corpora/stopwords.zip.\n",
            "[nltk_data] Downloading package punkt to /root/nltk_data...\n",
            "[nltk_data]   Unzipping tokenizers/punkt.zip.\n",
            "[nltk_data] Downloading package averaged_perceptron_tagger to\n",
            "[nltk_data]     /root/nltk_data...\n",
            "[nltk_data]   Unzipping taggers/averaged_perceptron_tagger.zip.\n",
            "[nltk_data] Downloading package wordnet to /root/nltk_data...\n",
            "[nltk_data]   Unzipping corpora/wordnet.zip.\n"
          ]
        }
      ]
    },
    {
      "cell_type": "code",
      "source": [
        "#Modelling \n",
        "from sklearn.model_selection import train_test_split\n",
        "from sklearn.feature_extraction.text import CountVectorizer, TfidfVectorizer\n",
        "from sklearn.linear_model import LogisticRegression\n",
        "from sklearn.ensemble import RandomForestClassifier\n",
        "from sklearn.metrics import accuracy_score\n",
        "from sklearn.metrics import confusion_matrix, classification_report"
      ],
      "metadata": {
        "id": "wClbdbWzdDzC"
      },
      "execution_count": 4,
      "outputs": []
    },
    {
      "cell_type": "code",
      "source": [
        "# importing dataset\n",
        "df = pd.read_csv('drive/MyDrive/sample30.csv' , encoding='latin-1')"
      ],
      "metadata": {
        "id": "_JNc3c6zdPYf"
      },
      "execution_count": 5,
      "outputs": []
    },
    {
      "cell_type": "code",
      "source": [
        "df.columns"
      ],
      "metadata": {
        "id": "JnZYEz4Yr_zC",
        "colab": {
          "base_uri": "https://localhost:8080/"
        },
        "outputId": "6c81a828-ee5f-4876-fee3-69343de6084a"
      },
      "execution_count": 6,
      "outputs": [
        {
          "output_type": "execute_result",
          "data": {
            "text/plain": [
              "Index(['id', 'brand', 'categories', 'manufacturer', 'name', 'reviews_date',\n",
              "       'reviews_didPurchase', 'reviews_doRecommend', 'reviews_rating',\n",
              "       'reviews_text', 'reviews_title', 'reviews_userCity',\n",
              "       'reviews_userProvince', 'reviews_username', 'user_sentiment'],\n",
              "      dtype='object')"
            ]
          },
          "metadata": {},
          "execution_count": 6
        }
      ]
    },
    {
      "cell_type": "code",
      "source": [
        "df.info()"
      ],
      "metadata": {
        "id": "gjtsXMvysGm-",
        "colab": {
          "base_uri": "https://localhost:8080/"
        },
        "outputId": "abef9d7c-54de-424a-c110-b86b71f46f2d"
      },
      "execution_count": 7,
      "outputs": [
        {
          "output_type": "stream",
          "name": "stdout",
          "text": [
            "<class 'pandas.core.frame.DataFrame'>\n",
            "RangeIndex: 30000 entries, 0 to 29999\n",
            "Data columns (total 15 columns):\n",
            " #   Column                Non-Null Count  Dtype \n",
            "---  ------                --------------  ----- \n",
            " 0   id                    30000 non-null  object\n",
            " 1   brand                 30000 non-null  object\n",
            " 2   categories            30000 non-null  object\n",
            " 3   manufacturer          29859 non-null  object\n",
            " 4   name                  30000 non-null  object\n",
            " 5   reviews_date          29954 non-null  object\n",
            " 6   reviews_didPurchase   15932 non-null  object\n",
            " 7   reviews_doRecommend   27430 non-null  object\n",
            " 8   reviews_rating        30000 non-null  int64 \n",
            " 9   reviews_text          30000 non-null  object\n",
            " 10  reviews_title         29810 non-null  object\n",
            " 11  reviews_userCity      1929 non-null   object\n",
            " 12  reviews_userProvince  170 non-null    object\n",
            " 13  reviews_username      29937 non-null  object\n",
            " 14  user_sentiment        29999 non-null  object\n",
            "dtypes: int64(1), object(14)\n",
            "memory usage: 3.4+ MB\n"
          ]
        }
      ]
    },
    {
      "cell_type": "code",
      "source": [
        "#data exploration\n",
        "df.head()"
      ],
      "metadata": {
        "id": "E5efe9KkdgSU",
        "colab": {
          "base_uri": "https://localhost:8080/",
          "height": 1000
        },
        "outputId": "ac6535d3-e5e5-4765-dd3e-698aa55f7b75"
      },
      "execution_count": 8,
      "outputs": [
        {
          "output_type": "execute_result",
          "data": {
            "text/html": [
              "<div>\n",
              "<style scoped>\n",
              "    .dataframe tbody tr th:only-of-type {\n",
              "        vertical-align: middle;\n",
              "    }\n",
              "\n",
              "    .dataframe tbody tr th {\n",
              "        vertical-align: top;\n",
              "    }\n",
              "\n",
              "    .dataframe thead th {\n",
              "        text-align: right;\n",
              "    }\n",
              "</style>\n",
              "<table border=\"1\" class=\"dataframe\">\n",
              "  <thead>\n",
              "    <tr style=\"text-align: right;\">\n",
              "      <th></th>\n",
              "      <th>id</th>\n",
              "      <th>brand</th>\n",
              "      <th>categories</th>\n",
              "      <th>manufacturer</th>\n",
              "      <th>name</th>\n",
              "      <th>reviews_date</th>\n",
              "      <th>reviews_didPurchase</th>\n",
              "      <th>reviews_doRecommend</th>\n",
              "      <th>reviews_rating</th>\n",
              "      <th>reviews_text</th>\n",
              "      <th>reviews_title</th>\n",
              "      <th>reviews_userCity</th>\n",
              "      <th>reviews_userProvince</th>\n",
              "      <th>reviews_username</th>\n",
              "      <th>user_sentiment</th>\n",
              "    </tr>\n",
              "  </thead>\n",
              "  <tbody>\n",
              "    <tr>\n",
              "      <th>0</th>\n",
              "      <td>AV13O1A8GV-KLJ3akUyj</td>\n",
              "      <td>Universal Music</td>\n",
              "      <td>Movies, Music &amp; Books,Music,R&amp;b,Movies &amp; TV,Movie Bundles &amp; Collections,CDs &amp; Vinyl,Rap &amp; Hip-Hop,Bass,Music on CD or Vinyl,Rap,Hip-Hop,Mainstream Rap,Pop Rap</td>\n",
              "      <td>Universal Music Group / Cash Money</td>\n",
              "      <td>Pink Friday: Roman Reloaded Re-Up (w/dvd)</td>\n",
              "      <td>2012-11-30T06:21:45.000Z</td>\n",
              "      <td>NaN</td>\n",
              "      <td>NaN</td>\n",
              "      <td>5</td>\n",
              "      <td>i love this album. it's very good. more to the hip hop side than her current pop sound.. SO HYPE! i listen to this everyday at the gym! i give it 5star rating all the way. her metaphors are just crazy.</td>\n",
              "      <td>Just Awesome</td>\n",
              "      <td>Los Angeles</td>\n",
              "      <td>NaN</td>\n",
              "      <td>joshua</td>\n",
              "      <td>Positive</td>\n",
              "    </tr>\n",
              "    <tr>\n",
              "      <th>1</th>\n",
              "      <td>AV14LG0R-jtxr-f38QfS</td>\n",
              "      <td>Lundberg</td>\n",
              "      <td>Food,Packaged Foods,Snacks,Crackers,Snacks, Cookies &amp; Chips,Rice Cakes,Cakes</td>\n",
              "      <td>Lundberg</td>\n",
              "      <td>Lundberg Organic Cinnamon Toast Rice Cakes</td>\n",
              "      <td>2017-07-09T00:00:00.000Z</td>\n",
              "      <td>True</td>\n",
              "      <td>NaN</td>\n",
              "      <td>5</td>\n",
              "      <td>Good flavor. This review was collected as part of a promotion.</td>\n",
              "      <td>Good</td>\n",
              "      <td>NaN</td>\n",
              "      <td>NaN</td>\n",
              "      <td>dorothy w</td>\n",
              "      <td>Positive</td>\n",
              "    </tr>\n",
              "    <tr>\n",
              "      <th>2</th>\n",
              "      <td>AV14LG0R-jtxr-f38QfS</td>\n",
              "      <td>Lundberg</td>\n",
              "      <td>Food,Packaged Foods,Snacks,Crackers,Snacks, Cookies &amp; Chips,Rice Cakes,Cakes</td>\n",
              "      <td>Lundberg</td>\n",
              "      <td>Lundberg Organic Cinnamon Toast Rice Cakes</td>\n",
              "      <td>2017-07-09T00:00:00.000Z</td>\n",
              "      <td>True</td>\n",
              "      <td>NaN</td>\n",
              "      <td>5</td>\n",
              "      <td>Good flavor.</td>\n",
              "      <td>Good</td>\n",
              "      <td>NaN</td>\n",
              "      <td>NaN</td>\n",
              "      <td>dorothy w</td>\n",
              "      <td>Positive</td>\n",
              "    </tr>\n",
              "    <tr>\n",
              "      <th>3</th>\n",
              "      <td>AV16khLE-jtxr-f38VFn</td>\n",
              "      <td>K-Y</td>\n",
              "      <td>Personal Care,Medicine Cabinet,Lubricant/Spermicide,Health,Sexual Wellness,Lubricants</td>\n",
              "      <td>K-Y</td>\n",
              "      <td>K-Y Love Sensuality Pleasure Gel</td>\n",
              "      <td>2016-01-06T00:00:00.000Z</td>\n",
              "      <td>False</td>\n",
              "      <td>False</td>\n",
              "      <td>1</td>\n",
              "      <td>I read through the reviews on here before looking in to buying one of the couples lubricants, and was ultimately disappointed that it didn't even live up to the reviews I had read. For starters, neither my boyfriend nor I could notice any sort of enhanced or 'captivating' sensation. What we did ...</td>\n",
              "      <td>Disappointed</td>\n",
              "      <td>NaN</td>\n",
              "      <td>NaN</td>\n",
              "      <td>rebecca</td>\n",
              "      <td>Negative</td>\n",
              "    </tr>\n",
              "    <tr>\n",
              "      <th>4</th>\n",
              "      <td>AV16khLE-jtxr-f38VFn</td>\n",
              "      <td>K-Y</td>\n",
              "      <td>Personal Care,Medicine Cabinet,Lubricant/Spermicide,Health,Sexual Wellness,Lubricants</td>\n",
              "      <td>K-Y</td>\n",
              "      <td>K-Y Love Sensuality Pleasure Gel</td>\n",
              "      <td>2016-12-21T00:00:00.000Z</td>\n",
              "      <td>False</td>\n",
              "      <td>False</td>\n",
              "      <td>1</td>\n",
              "      <td>My husband bought this gel for us. The gel caused irritation and it felt like it was burning my skin. I wouldn't recommend this gel.</td>\n",
              "      <td>Irritation</td>\n",
              "      <td>NaN</td>\n",
              "      <td>NaN</td>\n",
              "      <td>walker557</td>\n",
              "      <td>Negative</td>\n",
              "    </tr>\n",
              "  </tbody>\n",
              "</table>\n",
              "</div>"
            ],
            "text/plain": [
              "                     id            brand  \\\n",
              "0  AV13O1A8GV-KLJ3akUyj  Universal Music   \n",
              "1  AV14LG0R-jtxr-f38QfS         Lundberg   \n",
              "2  AV14LG0R-jtxr-f38QfS         Lundberg   \n",
              "3  AV16khLE-jtxr-f38VFn              K-Y   \n",
              "4  AV16khLE-jtxr-f38VFn              K-Y   \n",
              "\n",
              "                                                                                                                                                       categories  \\\n",
              "0  Movies, Music & Books,Music,R&b,Movies & TV,Movie Bundles & Collections,CDs & Vinyl,Rap & Hip-Hop,Bass,Music on CD or Vinyl,Rap,Hip-Hop,Mainstream Rap,Pop Rap   \n",
              "1                                                                                    Food,Packaged Foods,Snacks,Crackers,Snacks, Cookies & Chips,Rice Cakes,Cakes   \n",
              "2                                                                                    Food,Packaged Foods,Snacks,Crackers,Snacks, Cookies & Chips,Rice Cakes,Cakes   \n",
              "3                                                                           Personal Care,Medicine Cabinet,Lubricant/Spermicide,Health,Sexual Wellness,Lubricants   \n",
              "4                                                                           Personal Care,Medicine Cabinet,Lubricant/Spermicide,Health,Sexual Wellness,Lubricants   \n",
              "\n",
              "                         manufacturer  \\\n",
              "0  Universal Music Group / Cash Money   \n",
              "1                            Lundberg   \n",
              "2                            Lundberg   \n",
              "3                                 K-Y   \n",
              "4                                 K-Y   \n",
              "\n",
              "                                         name              reviews_date  \\\n",
              "0   Pink Friday: Roman Reloaded Re-Up (w/dvd)  2012-11-30T06:21:45.000Z   \n",
              "1  Lundberg Organic Cinnamon Toast Rice Cakes  2017-07-09T00:00:00.000Z   \n",
              "2  Lundberg Organic Cinnamon Toast Rice Cakes  2017-07-09T00:00:00.000Z   \n",
              "3            K-Y Love Sensuality Pleasure Gel  2016-01-06T00:00:00.000Z   \n",
              "4            K-Y Love Sensuality Pleasure Gel  2016-12-21T00:00:00.000Z   \n",
              "\n",
              "  reviews_didPurchase reviews_doRecommend  reviews_rating  \\\n",
              "0                 NaN                 NaN               5   \n",
              "1                True                 NaN               5   \n",
              "2                True                 NaN               5   \n",
              "3               False               False               1   \n",
              "4               False               False               1   \n",
              "\n",
              "                                                                                                                                                                                                                                                                                                  reviews_text  \\\n",
              "0                                                                                                    i love this album. it's very good. more to the hip hop side than her current pop sound.. SO HYPE! i listen to this everyday at the gym! i give it 5star rating all the way. her metaphors are just crazy.   \n",
              "1                                                                                                                                                                                                                                               Good flavor. This review was collected as part of a promotion.   \n",
              "2                                                                                                                                                                                                                                                                                                 Good flavor.   \n",
              "3  I read through the reviews on here before looking in to buying one of the couples lubricants, and was ultimately disappointed that it didn't even live up to the reviews I had read. For starters, neither my boyfriend nor I could notice any sort of enhanced or 'captivating' sensation. What we did ...   \n",
              "4                                                                                                                                                                         My husband bought this gel for us. The gel caused irritation and it felt like it was burning my skin. I wouldn't recommend this gel.   \n",
              "\n",
              "  reviews_title reviews_userCity reviews_userProvince reviews_username  \\\n",
              "0  Just Awesome      Los Angeles                  NaN           joshua   \n",
              "1          Good              NaN                  NaN        dorothy w   \n",
              "2          Good              NaN                  NaN        dorothy w   \n",
              "3  Disappointed              NaN                  NaN          rebecca   \n",
              "4    Irritation              NaN                  NaN        walker557   \n",
              "\n",
              "  user_sentiment  \n",
              "0       Positive  \n",
              "1       Positive  \n",
              "2       Positive  \n",
              "3       Negative  \n",
              "4       Negative  "
            ]
          },
          "metadata": {},
          "execution_count": 8
        }
      ]
    },
    {
      "cell_type": "code",
      "source": [
        "df['user_sentiment'].describe()"
      ],
      "metadata": {
        "id": "yH-bzpPdsNcr",
        "colab": {
          "base_uri": "https://localhost:8080/"
        },
        "outputId": "db69374c-c351-4dbb-9dc6-da8d6557da24"
      },
      "execution_count": 9,
      "outputs": [
        {
          "output_type": "execute_result",
          "data": {
            "text/plain": [
              "count        29999\n",
              "unique           2\n",
              "top       Positive\n",
              "freq         26632\n",
              "Name: user_sentiment, dtype: object"
            ]
          },
          "metadata": {},
          "execution_count": 9
        }
      ]
    },
    {
      "cell_type": "code",
      "source": [
        "df['reviews_rating'].describe()"
      ],
      "metadata": {
        "id": "MZMw3nMvsOsR",
        "colab": {
          "base_uri": "https://localhost:8080/"
        },
        "outputId": "91233fbf-7252-460b-ddd1-65b098118e68"
      },
      "execution_count": 10,
      "outputs": [
        {
          "output_type": "execute_result",
          "data": {
            "text/plain": [
              "count    30000.000000\n",
              "mean         4.483133\n",
              "std          0.988441\n",
              "min          1.000000\n",
              "25%          4.000000\n",
              "50%          5.000000\n",
              "75%          5.000000\n",
              "max          5.000000\n",
              "Name: reviews_rating, dtype: float64"
            ]
          },
          "metadata": {},
          "execution_count": 10
        }
      ]
    },
    {
      "cell_type": "code",
      "source": [
        "df['reviews_rating'].describe()"
      ],
      "metadata": {
        "id": "Aux2bZRusYh8",
        "colab": {
          "base_uri": "https://localhost:8080/"
        },
        "outputId": "3437ba3c-9087-4a49-eb04-46dae1859573"
      },
      "execution_count": 11,
      "outputs": [
        {
          "output_type": "execute_result",
          "data": {
            "text/plain": [
              "count    30000.000000\n",
              "mean         4.483133\n",
              "std          0.988441\n",
              "min          1.000000\n",
              "25%          4.000000\n",
              "50%          5.000000\n",
              "75%          5.000000\n",
              "max          5.000000\n",
              "Name: reviews_rating, dtype: float64"
            ]
          },
          "metadata": {},
          "execution_count": 11
        }
      ]
    },
    {
      "cell_type": "code",
      "source": [
        "df['user_sentiment'].value_counts()"
      ],
      "metadata": {
        "id": "EGk4HMhPs0Hq",
        "colab": {
          "base_uri": "https://localhost:8080/"
        },
        "outputId": "03bda92b-84b9-4c3c-ac4d-c65b35468ec5"
      },
      "execution_count": 12,
      "outputs": [
        {
          "output_type": "execute_result",
          "data": {
            "text/plain": [
              "Positive    26632\n",
              "Negative     3367\n",
              "Name: user_sentiment, dtype: int64"
            ]
          },
          "metadata": {},
          "execution_count": 12
        }
      ]
    },
    {
      "cell_type": "code",
      "source": [
        "df['reviews_rating'].value_counts()"
      ],
      "metadata": {
        "id": "PDSzS_8Xs3Sk",
        "colab": {
          "base_uri": "https://localhost:8080/"
        },
        "outputId": "642593c6-0f4c-40b2-fd9e-b589e5b1deb8"
      },
      "execution_count": 13,
      "outputs": [
        {
          "output_type": "execute_result",
          "data": {
            "text/plain": [
              "5    20831\n",
              "4     6020\n",
              "1     1384\n",
              "3     1345\n",
              "2      420\n",
              "Name: reviews_rating, dtype: int64"
            ]
          },
          "metadata": {},
          "execution_count": 13
        }
      ]
    },
    {
      "cell_type": "code",
      "source": [
        "#df.drop(df.columns.difference(['id','name','reviews_text','reviews_rating','user_sentiment']), 1, inplace=True)\n",
        "df = df.drop(columns=['reviews_didPurchase', 'reviews_doRecommend', 'reviews_userCity', 'reviews_userProvince'])"
      ],
      "metadata": {
        "id": "fvRJjnuNsjcE"
      },
      "execution_count": 14,
      "outputs": []
    },
    {
      "cell_type": "code",
      "source": [
        "df.head()"
      ],
      "metadata": {
        "id": "sw6fOpxXtWly",
        "colab": {
          "base_uri": "https://localhost:8080/",
          "height": 1000
        },
        "outputId": "b2f651e5-06ae-421a-a616-8d83f3f6abcb"
      },
      "execution_count": 15,
      "outputs": [
        {
          "output_type": "execute_result",
          "data": {
            "text/html": [
              "<div>\n",
              "<style scoped>\n",
              "    .dataframe tbody tr th:only-of-type {\n",
              "        vertical-align: middle;\n",
              "    }\n",
              "\n",
              "    .dataframe tbody tr th {\n",
              "        vertical-align: top;\n",
              "    }\n",
              "\n",
              "    .dataframe thead th {\n",
              "        text-align: right;\n",
              "    }\n",
              "</style>\n",
              "<table border=\"1\" class=\"dataframe\">\n",
              "  <thead>\n",
              "    <tr style=\"text-align: right;\">\n",
              "      <th></th>\n",
              "      <th>id</th>\n",
              "      <th>brand</th>\n",
              "      <th>categories</th>\n",
              "      <th>manufacturer</th>\n",
              "      <th>name</th>\n",
              "      <th>reviews_date</th>\n",
              "      <th>reviews_rating</th>\n",
              "      <th>reviews_text</th>\n",
              "      <th>reviews_title</th>\n",
              "      <th>reviews_username</th>\n",
              "      <th>user_sentiment</th>\n",
              "    </tr>\n",
              "  </thead>\n",
              "  <tbody>\n",
              "    <tr>\n",
              "      <th>0</th>\n",
              "      <td>AV13O1A8GV-KLJ3akUyj</td>\n",
              "      <td>Universal Music</td>\n",
              "      <td>Movies, Music &amp; Books,Music,R&amp;b,Movies &amp; TV,Movie Bundles &amp; Collections,CDs &amp; Vinyl,Rap &amp; Hip-Hop,Bass,Music on CD or Vinyl,Rap,Hip-Hop,Mainstream Rap,Pop Rap</td>\n",
              "      <td>Universal Music Group / Cash Money</td>\n",
              "      <td>Pink Friday: Roman Reloaded Re-Up (w/dvd)</td>\n",
              "      <td>2012-11-30T06:21:45.000Z</td>\n",
              "      <td>5</td>\n",
              "      <td>i love this album. it's very good. more to the hip hop side than her current pop sound.. SO HYPE! i listen to this everyday at the gym! i give it 5star rating all the way. her metaphors are just crazy.</td>\n",
              "      <td>Just Awesome</td>\n",
              "      <td>joshua</td>\n",
              "      <td>Positive</td>\n",
              "    </tr>\n",
              "    <tr>\n",
              "      <th>1</th>\n",
              "      <td>AV14LG0R-jtxr-f38QfS</td>\n",
              "      <td>Lundberg</td>\n",
              "      <td>Food,Packaged Foods,Snacks,Crackers,Snacks, Cookies &amp; Chips,Rice Cakes,Cakes</td>\n",
              "      <td>Lundberg</td>\n",
              "      <td>Lundberg Organic Cinnamon Toast Rice Cakes</td>\n",
              "      <td>2017-07-09T00:00:00.000Z</td>\n",
              "      <td>5</td>\n",
              "      <td>Good flavor. This review was collected as part of a promotion.</td>\n",
              "      <td>Good</td>\n",
              "      <td>dorothy w</td>\n",
              "      <td>Positive</td>\n",
              "    </tr>\n",
              "    <tr>\n",
              "      <th>2</th>\n",
              "      <td>AV14LG0R-jtxr-f38QfS</td>\n",
              "      <td>Lundberg</td>\n",
              "      <td>Food,Packaged Foods,Snacks,Crackers,Snacks, Cookies &amp; Chips,Rice Cakes,Cakes</td>\n",
              "      <td>Lundberg</td>\n",
              "      <td>Lundberg Organic Cinnamon Toast Rice Cakes</td>\n",
              "      <td>2017-07-09T00:00:00.000Z</td>\n",
              "      <td>5</td>\n",
              "      <td>Good flavor.</td>\n",
              "      <td>Good</td>\n",
              "      <td>dorothy w</td>\n",
              "      <td>Positive</td>\n",
              "    </tr>\n",
              "    <tr>\n",
              "      <th>3</th>\n",
              "      <td>AV16khLE-jtxr-f38VFn</td>\n",
              "      <td>K-Y</td>\n",
              "      <td>Personal Care,Medicine Cabinet,Lubricant/Spermicide,Health,Sexual Wellness,Lubricants</td>\n",
              "      <td>K-Y</td>\n",
              "      <td>K-Y Love Sensuality Pleasure Gel</td>\n",
              "      <td>2016-01-06T00:00:00.000Z</td>\n",
              "      <td>1</td>\n",
              "      <td>I read through the reviews on here before looking in to buying one of the couples lubricants, and was ultimately disappointed that it didn't even live up to the reviews I had read. For starters, neither my boyfriend nor I could notice any sort of enhanced or 'captivating' sensation. What we did ...</td>\n",
              "      <td>Disappointed</td>\n",
              "      <td>rebecca</td>\n",
              "      <td>Negative</td>\n",
              "    </tr>\n",
              "    <tr>\n",
              "      <th>4</th>\n",
              "      <td>AV16khLE-jtxr-f38VFn</td>\n",
              "      <td>K-Y</td>\n",
              "      <td>Personal Care,Medicine Cabinet,Lubricant/Spermicide,Health,Sexual Wellness,Lubricants</td>\n",
              "      <td>K-Y</td>\n",
              "      <td>K-Y Love Sensuality Pleasure Gel</td>\n",
              "      <td>2016-12-21T00:00:00.000Z</td>\n",
              "      <td>1</td>\n",
              "      <td>My husband bought this gel for us. The gel caused irritation and it felt like it was burning my skin. I wouldn't recommend this gel.</td>\n",
              "      <td>Irritation</td>\n",
              "      <td>walker557</td>\n",
              "      <td>Negative</td>\n",
              "    </tr>\n",
              "  </tbody>\n",
              "</table>\n",
              "</div>"
            ],
            "text/plain": [
              "                     id            brand  \\\n",
              "0  AV13O1A8GV-KLJ3akUyj  Universal Music   \n",
              "1  AV14LG0R-jtxr-f38QfS         Lundberg   \n",
              "2  AV14LG0R-jtxr-f38QfS         Lundberg   \n",
              "3  AV16khLE-jtxr-f38VFn              K-Y   \n",
              "4  AV16khLE-jtxr-f38VFn              K-Y   \n",
              "\n",
              "                                                                                                                                                       categories  \\\n",
              "0  Movies, Music & Books,Music,R&b,Movies & TV,Movie Bundles & Collections,CDs & Vinyl,Rap & Hip-Hop,Bass,Music on CD or Vinyl,Rap,Hip-Hop,Mainstream Rap,Pop Rap   \n",
              "1                                                                                    Food,Packaged Foods,Snacks,Crackers,Snacks, Cookies & Chips,Rice Cakes,Cakes   \n",
              "2                                                                                    Food,Packaged Foods,Snacks,Crackers,Snacks, Cookies & Chips,Rice Cakes,Cakes   \n",
              "3                                                                           Personal Care,Medicine Cabinet,Lubricant/Spermicide,Health,Sexual Wellness,Lubricants   \n",
              "4                                                                           Personal Care,Medicine Cabinet,Lubricant/Spermicide,Health,Sexual Wellness,Lubricants   \n",
              "\n",
              "                         manufacturer  \\\n",
              "0  Universal Music Group / Cash Money   \n",
              "1                            Lundberg   \n",
              "2                            Lundberg   \n",
              "3                                 K-Y   \n",
              "4                                 K-Y   \n",
              "\n",
              "                                         name              reviews_date  \\\n",
              "0   Pink Friday: Roman Reloaded Re-Up (w/dvd)  2012-11-30T06:21:45.000Z   \n",
              "1  Lundberg Organic Cinnamon Toast Rice Cakes  2017-07-09T00:00:00.000Z   \n",
              "2  Lundberg Organic Cinnamon Toast Rice Cakes  2017-07-09T00:00:00.000Z   \n",
              "3            K-Y Love Sensuality Pleasure Gel  2016-01-06T00:00:00.000Z   \n",
              "4            K-Y Love Sensuality Pleasure Gel  2016-12-21T00:00:00.000Z   \n",
              "\n",
              "   reviews_rating  \\\n",
              "0               5   \n",
              "1               5   \n",
              "2               5   \n",
              "3               1   \n",
              "4               1   \n",
              "\n",
              "                                                                                                                                                                                                                                                                                                  reviews_text  \\\n",
              "0                                                                                                    i love this album. it's very good. more to the hip hop side than her current pop sound.. SO HYPE! i listen to this everyday at the gym! i give it 5star rating all the way. her metaphors are just crazy.   \n",
              "1                                                                                                                                                                                                                                               Good flavor. This review was collected as part of a promotion.   \n",
              "2                                                                                                                                                                                                                                                                                                 Good flavor.   \n",
              "3  I read through the reviews on here before looking in to buying one of the couples lubricants, and was ultimately disappointed that it didn't even live up to the reviews I had read. For starters, neither my boyfriend nor I could notice any sort of enhanced or 'captivating' sensation. What we did ...   \n",
              "4                                                                                                                                                                         My husband bought this gel for us. The gel caused irritation and it felt like it was burning my skin. I wouldn't recommend this gel.   \n",
              "\n",
              "  reviews_title reviews_username user_sentiment  \n",
              "0  Just Awesome           joshua       Positive  \n",
              "1          Good        dorothy w       Positive  \n",
              "2          Good        dorothy w       Positive  \n",
              "3  Disappointed          rebecca       Negative  \n",
              "4    Irritation        walker557       Negative  "
            ]
          },
          "metadata": {},
          "execution_count": 15
        }
      ]
    },
    {
      "cell_type": "code",
      "source": [
        "#plotting and data distribution\n",
        "plt.figure(figsize=(10,10))\n",
        "sns.countplot(x=\"user_sentiment\", data=df)\n",
        "plt.show()"
      ],
      "metadata": {
        "id": "9dvppM3Qdjeh",
        "colab": {
          "base_uri": "https://localhost:8080/",
          "height": 606
        },
        "outputId": "05c3024b-6a85-4b38-8fdc-0f2374a3068a"
      },
      "execution_count": 16,
      "outputs": [
        {
          "output_type": "display_data",
          "data": {
            "image/png": "[encoded data removed]",
            "text/plain": [
              "<Figure size 720x720 with 1 Axes>"
            ]
          },
          "metadata": {
            "needs_background": "light"
          }
        }
      ]
    },
    {
      "cell_type": "code",
      "source": [
        "#plotting Rating data distribution\n",
        "plt.figure(figsize= (10,10))\n",
        "sns.countplot(x='reviews_rating', data= df)\n",
        "plt.show()"
      ],
      "metadata": {
        "id": "wpRAuKN1uFZm",
        "colab": {
          "base_uri": "https://localhost:8080/",
          "height": 606
        },
        "outputId": "08f0ebc2-b72d-4e64-c616-b87514c14a63"
      },
      "execution_count": 17,
      "outputs": [
        {
          "output_type": "display_data",
          "data": {
            "image/png": "[encoded data removed]",
            "text/plain": [
              "<Figure size 720x720 with 1 Axes>"
            ]
          },
          "metadata": {
            "needs_background": "light"
          }
        }
      ]
    },
    {
      "cell_type": "markdown",
      "source": [
        "### **Text Preprocessing**"
      ],
      "metadata": {
        "id": "_g_bZXBmqtde"
      }
    },
    {
      "cell_type": "code",
      "source": [
        "df.size"
      ],
      "metadata": {
        "id": "tzIY0-d_lLk_",
        "colab": {
          "base_uri": "https://localhost:8080/"
        },
        "outputId": "48d07640-f881-482f-d9ed-3d4b0f1248a0"
      },
      "execution_count": 18,
      "outputs": [
        {
          "output_type": "execute_result",
          "data": {
            "text/plain": [
              "330000"
            ]
          },
          "metadata": {},
          "execution_count": 18
        }
      ]
    },
    {
      "cell_type": "code",
      "source": [
        "#dropping nan values\n",
        "df.dropna(inplace = True)"
      ],
      "metadata": {
        "id": "PQAe6hfmqx3H"
      },
      "execution_count": 19,
      "outputs": []
    },
    {
      "cell_type": "code",
      "source": [
        "df.size"
      ],
      "metadata": {
        "id": "EOTZ6_4MlID8",
        "colab": {
          "base_uri": "https://localhost:8080/"
        },
        "outputId": "7d452768-26bc-4424-daca-6830262512d4"
      },
      "execution_count": 20,
      "outputs": [
        {
          "output_type": "execute_result",
          "data": {
            "text/plain": [
              "325226"
            ]
          },
          "metadata": {},
          "execution_count": 20
        }
      ]
    },
    {
      "cell_type": "code",
      "source": [
        "df.info()"
      ],
      "metadata": {
        "id": "x9WEXeO1q9CS",
        "colab": {
          "base_uri": "https://localhost:8080/"
        },
        "outputId": "a0b970ef-06bd-4d6f-dd62-66acc2e69a47"
      },
      "execution_count": 21,
      "outputs": [
        {
          "output_type": "stream",
          "name": "stdout",
          "text": [
            "<class 'pandas.core.frame.DataFrame'>\n",
            "Int64Index: 29566 entries, 0 to 29999\n",
            "Data columns (total 11 columns):\n",
            " #   Column            Non-Null Count  Dtype \n",
            "---  ------            --------------  ----- \n",
            " 0   id                29566 non-null  object\n",
            " 1   brand             29566 non-null  object\n",
            " 2   categories        29566 non-null  object\n",
            " 3   manufacturer      29566 non-null  object\n",
            " 4   name              29566 non-null  object\n",
            " 5   reviews_date      29566 non-null  object\n",
            " 6   reviews_rating    29566 non-null  int64 \n",
            " 7   reviews_text      29566 non-null  object\n",
            " 8   reviews_title     29566 non-null  object\n",
            " 9   reviews_username  29566 non-null  object\n",
            " 10  user_sentiment    29566 non-null  object\n",
            "dtypes: int64(1), object(10)\n",
            "memory usage: 2.7+ MB\n"
          ]
        }
      ]
    },
    {
      "cell_type": "code",
      "source": [
        "df[\"user_sentiment\"] = df['reviews_rating'].apply(lambda x: 1 if (x >= 3) else 0)"
      ],
      "metadata": {
        "id": "kEz_wKbzmdWv"
      },
      "execution_count": 22,
      "outputs": []
    },
    {
      "cell_type": "code",
      "source": [
        "#plotting and data distribution\n",
        "plt.figure(figsize=(10,10))\n",
        "sns.countplot(x=\"user_sentiment\", data=df)\n",
        "plt.show()"
      ],
      "metadata": {
        "id": "Mtud4Ub1tMLC",
        "colab": {
          "base_uri": "https://localhost:8080/",
          "height": 606
        },
        "outputId": "fcc2ddc3-64f7-44b7-e8af-bfa18f184377"
      },
      "execution_count": 23,
      "outputs": [
        {
          "output_type": "display_data",
          "data": {
            "image/png": "[encoded data removed]",
            "text/plain": [
              "<Figure size 720x720 with 1 Axes>"
            ]
          },
          "metadata": {
            "needs_background": "light"
          }
        }
      ]
    },
    {
      "cell_type": "code",
      "source": [
        "#di = {\"Positive\": 1, \"Negative\": 0}\n",
        "#df[\"user_sentiment\"].replace(di, inplace=True)"
      ],
      "metadata": {
        "id": "W3Fa9IBs6yzH"
      },
      "execution_count": 24,
      "outputs": []
    },
    {
      "cell_type": "code",
      "source": [
        "#converting into string\n",
        "df['reviews_text'] = df['reviews_text'].astype('str')\n",
        "df['user_sentiment'] = df['user_sentiment'].astype('int')"
      ],
      "metadata": {
        "id": "-wK0k2aCxhfP"
      },
      "execution_count": 25,
      "outputs": []
    },
    {
      "cell_type": "code",
      "source": [
        "# Remove punctuation \n",
        "df['reviews_text'] = df['reviews_text'].str.replace('[^\\w\\s]','')"
      ],
      "metadata": {
        "id": "7bnEnobJz3iP"
      },
      "execution_count": 26,
      "outputs": []
    },
    {
      "cell_type": "code",
      "source": [
        "# Remove Stopwords\n",
        "stop = stopwords.words('english')\n",
        "df['reviews_text'] = df['reviews_text'].apply(lambda x: ' '.join([word for word in x.split() if word not in (stop)]))"
      ],
      "metadata": {
        "id": "Cxged8YL577B"
      },
      "execution_count": 27,
      "outputs": []
    },
    {
      "cell_type": "code",
      "source": [
        "def scrub_words(text):\n",
        "  \"\"\"Basic cleaning of texts.\"\"\"\n",
        "  \n",
        "  #remove non-ascii and digits\n",
        "  text=re.sub(\"(\\\\W|\\\\d)\",\" \",text)\n",
        "  \n",
        "  #remove whitespace\n",
        "  text = text.strip()\n",
        "  text = re.sub(' +', ' ',text)\n",
        "\n",
        "  return text"
      ],
      "metadata": {
        "id": "4BUex0ij-XLd"
      },
      "execution_count": 28,
      "outputs": []
    },
    {
      "cell_type": "code",
      "source": [
        "df['reviews_text']= df['reviews_text'].apply(lambda x: scrub_words(x))"
      ],
      "metadata": {
        "id": "uxnf7qJq_JFi"
      },
      "execution_count": 29,
      "outputs": []
    },
    {
      "cell_type": "code",
      "source": [
        "df['reviews_text'] = df['reviews_text'].str.lower()"
      ],
      "metadata": {
        "id": "oqi62pbW_aJc"
      },
      "execution_count": 30,
      "outputs": []
    },
    {
      "cell_type": "code",
      "source": [
        "#cleaned text to excel\n",
        "df.to_csv(\"drive/MyDrive/clean_text.csv\")"
      ],
      "metadata": {
        "id": "b6lcK8o_7cQj"
      },
      "execution_count": 31,
      "outputs": []
    },
    {
      "cell_type": "code",
      "source": [
        "lemmatizer = nltk.stem.WordNetLemmatizer()"
      ],
      "metadata": {
        "id": "8jtjc6JxAU8B"
      },
      "execution_count": 32,
      "outputs": []
    },
    {
      "cell_type": "code",
      "source": [
        "def nltk_tag_to_wordnet_tag(nltk_tag):\n",
        "    if nltk_tag.startswith('J'):\n",
        "        return wordnet.ADJ\n",
        "    elif nltk_tag.startswith('V'):\n",
        "        return wordnet.VERB\n",
        "    elif nltk_tag.startswith('N'):\n",
        "        return wordnet.NOUN\n",
        "    elif nltk_tag.startswith('R'):\n",
        "        return wordnet.ADV\n",
        "    else:\n",
        "        return None"
      ],
      "metadata": {
        "id": "gFVOyl95Awp1"
      },
      "execution_count": 33,
      "outputs": []
    },
    {
      "cell_type": "code",
      "source": [
        "def lemmatize_sentence(sentence):\n",
        "    #tokenize the sentence and find the POS tag for each token\n",
        "    nltk_tagged = nltk.pos_tag(nltk.word_tokenize(sentence))\n",
        "    #tuple of (token, wordnet_tag)\n",
        "    wordnet_tagged = map(lambda x: (x[0], nltk_tag_to_wordnet_tag(x[1])), nltk_tagged)\n",
        "    lemmatized_sentence = []\n",
        "    for word, tag in wordnet_tagged:\n",
        "        if tag is None:\n",
        "            #if there is no available tag, append the token as is\n",
        "            lemmatized_sentence.append(word)\n",
        "        else:\n",
        "            #else use the tag to lemmatize the token\n",
        "            lemmatized_sentence.append(lemmatizer.lemmatize(word, tag))\n",
        "    return \" \".join(lemmatized_sentence)"
      ],
      "metadata": {
        "id": "vdHymMDaBiDE"
      },
      "execution_count": 34,
      "outputs": []
    },
    {
      "cell_type": "code",
      "source": [
        "df['reviews_text'] = df['reviews_text'].apply(lambda x: lemmatize_sentence(x))"
      ],
      "metadata": {
        "id": "Lot0XpODkGsn"
      },
      "execution_count": 35,
      "outputs": []
    },
    {
      "cell_type": "code",
      "source": [
        "x= df['reviews_text']\n",
        "y= df['user_sentiment']\n",
        "print(x.shape)\n",
        "print(y.shape)"
      ],
      "metadata": {
        "id": "JgVDbnN7B4Uo",
        "colab": {
          "base_uri": "https://localhost:8080/"
        },
        "outputId": "c1123d6c-8b44-448c-ba9e-5851345cb35c"
      },
      "execution_count": 36,
      "outputs": [
        {
          "output_type": "stream",
          "name": "stdout",
          "text": [
            "(29566,)\n",
            "(29566,)\n"
          ]
        }
      ]
    },
    {
      "cell_type": "code",
      "source": [
        "no_of_classes= len(pd.Series(y).value_counts())"
      ],
      "metadata": {
        "id": "3PGAJTXLCIJo"
      },
      "execution_count": 37,
      "outputs": []
    },
    {
      "cell_type": "code",
      "source": [
        "#Distribution of the target variable data in terms of proportions.\n",
        "for i in range(1,no_of_classes+1):\n",
        "  print(\"Percent of {0}s: \".format(i), round(100*pd.Series(y).value_counts()[i-1]/pd.Series(y).value_counts().sum(),2), \"%\")"
      ],
      "metadata": {
        "id": "vf4VDrgaDrrW",
        "colab": {
          "base_uri": "https://localhost:8080/"
        },
        "outputId": "ee4cdfc5-db1e-4c15-937e-5cd1fcc3e833"
      },
      "execution_count": 38,
      "outputs": [
        {
          "output_type": "stream",
          "name": "stdout",
          "text": [
            "Percent of 1s:  5.95 %\n",
            "Percent of 2s:  94.05 %\n"
          ]
        }
      ]
    },
    {
      "cell_type": "code",
      "source": [
        "# Split the dataset into test and train\n",
        "seed = 50 \n",
        "X_train, X_test, y_train, y_test = train_test_split(x, y, test_size=0.3, random_state=seed)"
      ],
      "metadata": {
        "id": "UcvIA6K7JduY"
      },
      "execution_count": 39,
      "outputs": []
    },
    {
      "cell_type": "code",
      "source": [
        "word_vectorizer = TfidfVectorizer(\n",
        "    strip_accents='unicode',    # Remove accents and perform other character normalization during the preprocessing step. \n",
        "    analyzer='word',            # Whether the feature should be made of word or character n-grams.\n",
        "    token_pattern=r'\\w{1,}',    # Regular expression denoting what constitutes a “token”, only used if analyzer == 'word'\n",
        "    ngram_range=(1, 3),         # The lower and upper boundary of the range of n-values for different n-grams to be extracted\n",
        "    stop_words='english',\n",
        "    sublinear_tf=True)\n",
        "word_vectorizer.fit(X_train)    # Fiting it on Train\n",
        "train_word_features = word_vectorizer.transform(X_train)  # Transform on Train"
      ],
      "metadata": {
        "id": "n2z6IZIjKID_"
      },
      "execution_count": 40,
      "outputs": []
    },
    {
      "cell_type": "code",
      "source": [
        "## transforming the train and test datasets\n",
        "X_train_transformed = word_vectorizer.transform(X_train.tolist())\n",
        "X_test_transformed = word_vectorizer.transform(X_test.tolist())\n",
        "\n",
        "# # Print the shape of each dataset.\n",
        "print('X_train_transformed', X_train_transformed.shape)\n",
        "print('y_train', y_train.shape)\n",
        "print('X_test_transformed', X_test_transformed.shape)\n",
        "print('y_test', y_test.shape)"
      ],
      "metadata": {
        "id": "6lo6kLE3Kk1a",
        "colab": {
          "base_uri": "https://localhost:8080/"
        },
        "outputId": "122ed3c0-36d4-414d-bbfa-2446d7bb3902"
      },
      "execution_count": 41,
      "outputs": [
        {
          "output_type": "stream",
          "name": "stdout",
          "text": [
            "X_train_transformed (20696, 341727)\n",
            "y_train (20696,)\n",
            "X_test_transformed (8870, 341727)\n",
            "y_test (8870,)\n"
          ]
        }
      ]
    },
    {
      "cell_type": "markdown",
      "source": [
        "# `Logistic Regression Model`"
      ],
      "metadata": {
        "id": "CAD9UgJsmF6u"
      }
    },
    {
      "cell_type": "code",
      "source": [
        "# Build the Logistic Regression model.\n",
        "time1 = time.time()\n",
        "logit = LogisticRegression()\n",
        "logit.fit(X_train_transformed,y_train)\n",
        "time_taken = time.time() - time1\n",
        "print('Time Taken: {:.2f} seconds'.format(time_taken))"
      ],
      "metadata": {
        "id": "hQvl5xFfMxls",
        "colab": {
          "base_uri": "https://localhost:8080/"
        },
        "outputId": "42fe2c2b-5c56-4f97-d732-a428efec7148"
      },
      "execution_count": 42,
      "outputs": [
        {
          "output_type": "stream",
          "name": "stdout",
          "text": [
            "Time Taken: 4.10 seconds\n"
          ]
        }
      ]
    },
    {
      "cell_type": "code",
      "source": [
        "# Prediction Train Data\n",
        "y_pred_train= logit.predict(X_train_transformed)\n",
        "\n",
        "#Model Performance on Train Dataset\n",
        "print(\"Logistic Regression accuracy\", accuracy_score(y_pred_train, y_train))\n",
        "print(classification_report(y_pred_train, y_train))"
      ],
      "metadata": {
        "id": "KUleSUkON0kv",
        "colab": {
          "base_uri": "https://localhost:8080/"
        },
        "outputId": "9e521e0a-e340-437b-fc5d-f7f15ab7c7a6"
      },
      "execution_count": 43,
      "outputs": [
        {
          "output_type": "stream",
          "name": "stdout",
          "text": [
            "Logistic Regression accuracy 0.9651140316969463\n",
            "              precision    recall  f1-score   support\n",
            "\n",
            "           0       0.43      0.99      0.60       540\n",
            "           1       1.00      0.96      0.98     20156\n",
            "\n",
            "    accuracy                           0.97     20696\n",
            "   macro avg       0.71      0.97      0.79     20696\n",
            "weighted avg       0.98      0.97      0.97     20696\n",
            "\n"
          ]
        }
      ]
    },
    {
      "cell_type": "code",
      "source": [
        "# Prediction Test Data\n",
        "y_pred_test = logit.predict(X_test_transformed)\n",
        "\n",
        "#Model Performance on Test Dataset\n",
        "print(\"Logistic Regression accuracy\", accuracy_score(y_pred_test, y_test))\n",
        "print(classification_report(y_pred_test, y_test))"
      ],
      "metadata": {
        "id": "DcHAT4nhPh_l",
        "colab": {
          "base_uri": "https://localhost:8080/"
        },
        "outputId": "63d87b80-9fb0-4f25-fe1d-9feee2486fc3"
      },
      "execution_count": 44,
      "outputs": [
        {
          "output_type": "stream",
          "name": "stdout",
          "text": [
            "Logistic Regression accuracy 0.9660653889515219\n",
            "              precision    recall  f1-score   support\n",
            "\n",
            "           0       0.43      0.97      0.59       225\n",
            "           1       1.00      0.97      0.98      8645\n",
            "\n",
            "    accuracy                           0.97      8870\n",
            "   macro avg       0.71      0.97      0.79      8870\n",
            "weighted avg       0.98      0.97      0.97      8870\n",
            "\n"
          ]
        }
      ]
    },
    {
      "cell_type": "code",
      "source": [
        "#class imbalance handling\n",
        "counter  = Counter(y_train)\n",
        "print('Before', counter)\n",
        "\n",
        "# download imblearn library\n",
        "sm = SMOTE()\n",
        "\n",
        "# transform the dataset\n",
        "X_train_transformed_sm, y_train_sm = sm.fit_resample(X_train_transformed, y_train)\n",
        "\n",
        "counter = Counter(y_train_sm)\n",
        "print('After',counter)"
      ],
      "metadata": {
        "id": "-CWBe9pLvJEm",
        "colab": {
          "base_uri": "https://localhost:8080/"
        },
        "outputId": "1cec4fea-ba9a-404b-b22c-88ddd09e8f54"
      },
      "execution_count": 45,
      "outputs": [
        {
          "output_type": "stream",
          "name": "stdout",
          "text": [
            "Before Counter({1: 19450, 0: 1246})\n",
            "After Counter({1: 19450, 0: 19450})\n"
          ]
        }
      ]
    },
    {
      "cell_type": "code",
      "source": [
        "# Building the Logistic Regression model\n",
        "time1 = time.time()\n",
        "\n",
        "logit_sm = LogisticRegression()\n",
        "logit_sm.fit(X_train_transformed_sm,y_train_sm)\n",
        "\n",
        "time_taken = time.time() - time1\n",
        "print('Time Taken in logestic regression with smote: {:.2f} seconds'.format(time_taken))"
      ],
      "metadata": {
        "id": "oDFcOE3owo6V",
        "colab": {
          "base_uri": "https://localhost:8080/"
        },
        "outputId": "a9312c9e-cd01-49ce-cb42-b6966d8cc0e7"
      },
      "execution_count": 46,
      "outputs": [
        {
          "output_type": "stream",
          "name": "stdout",
          "text": [
            "Time Taken in logestic regression with smote: 9.57 seconds\n"
          ]
        }
      ]
    },
    {
      "cell_type": "code",
      "source": [
        "# Prediction Train Data\n",
        "y_pred_train_sm= logit_sm.predict(X_train_transformed_sm)\n",
        "\n",
        "#Model Performance on Train Dataset\n",
        "print(\"Logistic Regression accuracy\", accuracy_score(y_pred_train_sm, y_train_sm))\n",
        "print(classification_report(y_pred_train_sm, y_train_sm))"
      ],
      "metadata": {
        "id": "xiYrr_aTw3qy",
        "colab": {
          "base_uri": "https://localhost:8080/"
        },
        "outputId": "b6659ae4-9fb6-4a9e-ee3c-51d8c284d39f"
      },
      "execution_count": 47,
      "outputs": [
        {
          "output_type": "stream",
          "name": "stdout",
          "text": [
            "Logistic Regression accuracy 0.9972750642673522\n",
            "              precision    recall  f1-score   support\n",
            "\n",
            "           0       1.00      0.99      1.00     19546\n",
            "           1       0.99      1.00      1.00     19354\n",
            "\n",
            "    accuracy                           1.00     38900\n",
            "   macro avg       1.00      1.00      1.00     38900\n",
            "weighted avg       1.00      1.00      1.00     38900\n",
            "\n"
          ]
        }
      ]
    },
    {
      "cell_type": "code",
      "source": [
        "# Prediction Test Data\n",
        "y_pred_test = logit_sm.predict(X_test_transformed)\n",
        "\n",
        "print(\"Logistic Regression accuracy\", accuracy_score(y_pred_test, y_test))\n",
        "print(classification_report(y_pred_test, y_test))\n",
        "print(confusion_matrix(y_pred_test, y_test))"
      ],
      "metadata": {
        "id": "h1tZGxOTxPgW",
        "colab": {
          "base_uri": "https://localhost:8080/"
        },
        "outputId": "d8d18a07-ad33-480a-845f-65f62df2a753"
      },
      "execution_count": 48,
      "outputs": [
        {
          "output_type": "stream",
          "name": "stdout",
          "text": [
            "Logistic Regression accuracy 0.9591882750845547\n",
            "              precision    recall  f1-score   support\n",
            "\n",
            "           0       0.75      0.62      0.68       618\n",
            "           1       0.97      0.98      0.98      8252\n",
            "\n",
            "    accuracy                           0.96      8870\n",
            "   macro avg       0.86      0.80      0.83      8870\n",
            "weighted avg       0.96      0.96      0.96      8870\n",
            "\n",
            "[[ 384  234]\n",
            " [ 128 8124]]\n"
          ]
        }
      ]
    },
    {
      "cell_type": "markdown",
      "source": [
        "# **`Imblearn import over_sampling`**"
      ],
      "metadata": {
        "id": "GbJ0Ou1uvE0t"
      }
    },
    {
      "cell_type": "code",
      "source": [
        "from imblearn import over_sampling\n",
        "ros = over_sampling.RandomOverSampler(random_state=0)"
      ],
      "metadata": {
        "id": "u4eI-hvYxWW2"
      },
      "execution_count": 49,
      "outputs": []
    },
    {
      "cell_type": "code",
      "source": [
        "# Split test and train\n",
        "seed = 50 \n",
        "\n",
        "X_train, X_test, y_train, y_test = train_test_split(x, y, test_size=0.3, random_state=seed)"
      ],
      "metadata": {
        "id": "ZGUl7TAvxzsV"
      },
      "execution_count": 50,
      "outputs": []
    },
    {
      "cell_type": "code",
      "source": [
        "# Oversampling the dataset.\n",
        "X_train, y_train = ros.fit_resample(pd.DataFrame(X_train), pd.Series(y_train))"
      ],
      "metadata": {
        "id": "LxsXZcMb__Bq"
      },
      "execution_count": 51,
      "outputs": []
    },
    {
      "cell_type": "code",
      "source": [
        "X_train = pd.DataFrame(X_train).iloc[:,0].tolist()"
      ],
      "metadata": {
        "id": "zxmotP1WvxyE"
      },
      "execution_count": 52,
      "outputs": []
    },
    {
      "cell_type": "code",
      "source": [
        "# transforming the train and test datasets\n",
        "\n",
        "X_train_transformed = word_vectorizer.transform(X_train)\n",
        "X_test_transformed = word_vectorizer.transform(X_test.tolist())"
      ],
      "metadata": {
        "id": "ECBexP_lx9OA"
      },
      "execution_count": 53,
      "outputs": []
    },
    {
      "cell_type": "code",
      "source": [
        "X_test_transformed.shape"
      ],
      "metadata": {
        "id": "VxLVgQ19zEmN",
        "colab": {
          "base_uri": "https://localhost:8080/"
        },
        "outputId": "22341583-d38f-49fe-aa2e-d363dd60e85a"
      },
      "execution_count": 54,
      "outputs": [
        {
          "output_type": "execute_result",
          "data": {
            "text/plain": [
              "(8870, 341727)"
            ]
          },
          "metadata": {},
          "execution_count": 54
        }
      ]
    },
    {
      "cell_type": "code",
      "source": [
        "y_train.shape"
      ],
      "metadata": {
        "id": "ggp5cUA80VVb",
        "colab": {
          "base_uri": "https://localhost:8080/"
        },
        "outputId": "6c0258c9-5754-4d54-9ecb-6fb7209bf9e6"
      },
      "execution_count": 55,
      "outputs": [
        {
          "output_type": "execute_result",
          "data": {
            "text/plain": [
              "(38900,)"
            ]
          },
          "metadata": {},
          "execution_count": 55
        }
      ]
    },
    {
      "cell_type": "markdown",
      "source": [
        "# **Random Forest Model**"
      ],
      "metadata": {
        "id": "S_4d9-zmvVBf"
      }
    },
    {
      "cell_type": "code",
      "source": [
        "# Building Random Forest Model.\n",
        "time1 = time.time()\n",
        "\n",
        "classifier = RandomForestClassifier(n_estimators=100, random_state=seed, n_jobs=-1)\n",
        "classifier.fit(X_train_transformed,y_train)\n",
        "\n",
        "time_taken = time.time() - time1\n",
        "print('Time Taken: {:.2f} seconds'.format(time_taken))"
      ],
      "metadata": {
        "id": "mNzitl_ryqGc",
        "colab": {
          "base_uri": "https://localhost:8080/"
        },
        "outputId": "fdaed80f-855a-4bf2-f7af-e95ca1960680"
      },
      "execution_count": 56,
      "outputs": [
        {
          "output_type": "stream",
          "name": "stdout",
          "text": [
            "Time Taken: 79.55 seconds\n"
          ]
        }
      ]
    },
    {
      "cell_type": "code",
      "source": [
        "#Prediciton training data\n",
        "y_pred_train = classifier.predict(X_train_transformed)\n",
        "print('Random forest model accuracy : ', accuracy_score(y_pred_train, y_train))\n",
        "print(classification_report(y_pred_train, y_train))"
      ],
      "metadata": {
        "id": "5x11F7e2yx7R",
        "colab": {
          "base_uri": "https://localhost:8080/"
        },
        "outputId": "46a1524e-b1cf-4c9c-a82b-5c55b458a8f5"
      },
      "execution_count": 57,
      "outputs": [
        {
          "output_type": "stream",
          "name": "stdout",
          "text": [
            "Random forest model accuracy :  0.9995629820051414\n",
            "              precision    recall  f1-score   support\n",
            "\n",
            "           0       1.00      1.00      1.00     19433\n",
            "           1       1.00      1.00      1.00     19467\n",
            "\n",
            "    accuracy                           1.00     38900\n",
            "   macro avg       1.00      1.00      1.00     38900\n",
            "weighted avg       1.00      1.00      1.00     38900\n",
            "\n"
          ]
        }
      ]
    },
    {
      "cell_type": "code",
      "source": [
        "# Prediction Test Data\n",
        "y_pred_test = classifier.predict(X_test_transformed)\n",
        "\n",
        "print(\"Random Forest Model accuracy\", accuracy_score(y_pred_test, y_test))\n",
        "print(classification_report(y_pred_test, y_test))"
      ],
      "metadata": {
        "id": "Zd6iHMQGylL1",
        "colab": {
          "base_uri": "https://localhost:8080/"
        },
        "outputId": "d47d8262-aa21-4559-bb1e-493974713f74"
      },
      "execution_count": 58,
      "outputs": [
        {
          "output_type": "stream",
          "name": "stdout",
          "text": [
            "Random Forest Model accuracy 0.9675310033821871\n",
            "              precision    recall  f1-score   support\n",
            "\n",
            "           0       0.45      0.98      0.61       232\n",
            "           1       1.00      0.97      0.98      8638\n",
            "\n",
            "    accuracy                           0.97      8870\n",
            "   macro avg       0.72      0.97      0.80      8870\n",
            "weighted avg       0.99      0.97      0.97      8870\n",
            "\n"
          ]
        }
      ]
    },
    {
      "cell_type": "markdown",
      "source": [
        "# **Naive Bayes**"
      ],
      "metadata": {
        "id": "rSYQZb6_zIov"
      }
    },
    {
      "cell_type": "code",
      "source": [
        "# Take random sampling\n",
        "X_train, X_test, y_train, y_test = train_test_split(x, y, test_size=0.3, random_state=1)"
      ],
      "metadata": {
        "id": "Sfg3W1EWyxv5"
      },
      "execution_count": 59,
      "outputs": []
    },
    {
      "cell_type": "code",
      "source": [
        "print(X_train.shape)\n",
        "print(X_test.shape)\n",
        "print(y_train.shape)\n",
        "print(y_test.shape)"
      ],
      "metadata": {
        "id": "flc-NqImzeiC",
        "colab": {
          "base_uri": "https://localhost:8080/"
        },
        "outputId": "22f3a7de-bef5-4a89-88c1-16b4617d6fa9"
      },
      "execution_count": 60,
      "outputs": [
        {
          "output_type": "stream",
          "name": "stdout",
          "text": [
            "(20696,)\n",
            "(8870,)\n",
            "(20696,)\n",
            "(8870,)\n"
          ]
        }
      ]
    },
    {
      "cell_type": "code",
      "source": [
        "vect = CountVectorizer(stop_words='english')"
      ],
      "metadata": {
        "id": "m0qWl43EzwzZ"
      },
      "execution_count": 61,
      "outputs": []
    },
    {
      "cell_type": "code",
      "source": [
        "vect.fit(X_train)"
      ],
      "metadata": {
        "id": "lUwM1tD70EGM",
        "colab": {
          "base_uri": "https://localhost:8080/"
        },
        "outputId": "91935abd-ce3b-4411-8852-60a5558c86d3"
      },
      "execution_count": 62,
      "outputs": [
        {
          "output_type": "execute_result",
          "data": {
            "text/plain": [
              "CountVectorizer(stop_words='english')"
            ]
          },
          "metadata": {},
          "execution_count": 62
        }
      ]
    },
    {
      "cell_type": "code",
      "source": [
        "# transform\n",
        "X_train_transformed = vect.transform(X_train)\n",
        "X_test_tranformed = vect.transform(X_test)"
      ],
      "metadata": {
        "id": "WxDiIGio0JrW"
      },
      "execution_count": 63,
      "outputs": []
    },
    {
      "cell_type": "code",
      "source": [
        "from sklearn.naive_bayes import BernoulliNB\n",
        "\n",
        "# instantiate bernoulli NB object\n",
        "bnb = BernoulliNB()\n",
        "\n",
        "## Training data prediction\n",
        "\n",
        "# fit \n",
        "bnb.fit(X_train_transformed,y_train)\n",
        "\n",
        "# predict class\n",
        "y_pred_train = bnb.predict(X_train_transformed)\n",
        "\n",
        "# predict probability\n",
        "#y_pred_proba = bnb.predict_proba(X_train_transformed)\n",
        "\n",
        "accuracy = accuracy_score(y_train, y_pred_train)\n",
        "print(\"Accuracy: %.2f%%\" % (accuracy * 100.0))\n"
      ],
      "metadata": {
        "id": "rnv2YtsZtmGA",
        "colab": {
          "base_uri": "https://localhost:8080/"
        },
        "outputId": "5650de3b-23a0-4992-843a-d90e7e975924"
      },
      "execution_count": 64,
      "outputs": [
        {
          "output_type": "stream",
          "name": "stdout",
          "text": [
            "Accuracy: 94.04%\n"
          ]
        }
      ]
    },
    {
      "cell_type": "code",
      "source": [
        "## Test data\n",
        "\n",
        "# predict class\n",
        "y_test_pred = bnb.predict(X_test_tranformed)\n",
        "\n",
        "# predict probability\n",
        "#y_pred_proba =bnb.predict_proba(X_test_tranformed)\n",
        "\n",
        "accuracy = accuracy_score(y_test, y_test_pred)\n",
        "print(\"Accuracy: %.2f%%\" % (accuracy * 100.0))"
      ],
      "metadata": {
        "id": "I-OQPILYtrdt",
        "colab": {
          "base_uri": "https://localhost:8080/"
        },
        "outputId": "c09552a1-ba12-4277-d297-f07c9cb40469"
      },
      "execution_count": 65,
      "outputs": [
        {
          "output_type": "stream",
          "name": "stdout",
          "text": [
            "Accuracy: 94.09%\n"
          ]
        }
      ]
    },
    {
      "cell_type": "markdown",
      "source": [
        "# **`xgboost`**"
      ],
      "metadata": {
        "id": "Bd-odJqD0jyS"
      }
    },
    {
      "cell_type": "code",
      "source": [
        "from sklearn.feature_extraction.text import CountVectorizer\n",
        "from xgboost import XGBClassifier\n",
        "\n",
        "cv = CountVectorizer(max_features=5000, encoding=\"utf-8\",  \n",
        "      ngram_range = (1,3),  \n",
        "      token_pattern = \"[A-Za-z_][A-Za-z\\d_]*\")\n"
      ],
      "metadata": {
        "id": "n25QM2c2Ym9c"
      },
      "execution_count": 66,
      "outputs": []
    },
    {
      "cell_type": "code",
      "source": [
        "X = cv.fit_transform(df['reviews_text'] ).toarray()\n",
        "y = df['user_sentiment']"
      ],
      "metadata": {
        "id": "2YnzHecfu138"
      },
      "execution_count": 67,
      "outputs": []
    },
    {
      "cell_type": "code",
      "source": [
        "pickle.dump(cv, open('drive/MyDrive/vectorizer.pickle', 'wb'))"
      ],
      "metadata": {
        "id": "E-UAMmFKojNm"
      },
      "execution_count": 68,
      "outputs": []
    },
    {
      "cell_type": "code",
      "source": [
        "X_train, X_test, y_train, y_test = train_test_split(X, y, \n",
        "      test_size=0.33, \n",
        "      random_state=0)"
      ],
      "metadata": {
        "id": "sjtjnRYL07NH"
      },
      "execution_count": 69,
      "outputs": []
    },
    {
      "cell_type": "code",
      "source": [
        "print(X_train.shape)\n",
        "print(y_train.shape)"
      ],
      "metadata": {
        "id": "BgibtX4A0_4l",
        "colab": {
          "base_uri": "https://localhost:8080/"
        },
        "outputId": "52765ee8-8cbf-4082-a4c8-a679ca2f8bec"
      },
      "execution_count": 70,
      "outputs": [
        {
          "output_type": "stream",
          "name": "stdout",
          "text": [
            "(19809, 5000)\n",
            "(19809,)\n"
          ]
        }
      ]
    },
    {
      "cell_type": "code",
      "source": [
        "#class imbalance handling\n",
        "counter  = Counter(y_train)\n",
        "print('Before', counter)\n",
        "\n",
        "# download imblearn library\n",
        "sm = SMOTE()\n",
        "\n",
        "# transform the dataset\n",
        "X_train_transformed_sm, y_train_sm = sm.fit_resample(X_train, y_train)\n",
        "\n",
        "counter = Counter(y_train_sm)\n",
        "print('After',counter)"
      ],
      "metadata": {
        "colab": {
          "base_uri": "https://localhost:8080/"
        },
        "id": "SHLB-ZcIMyF-",
        "outputId": "fd36c643-8364-4945-a789-1145c6faf8cc"
      },
      "execution_count": 71,
      "outputs": [
        {
          "output_type": "stream",
          "name": "stdout",
          "text": [
            "Before Counter({1: 18617, 0: 1192})\n",
            "After Counter({1: 18617, 0: 18617})\n"
          ]
        }
      ]
    },
    {
      "cell_type": "code",
      "source": [
        "# fit model no training data\n",
        "\n",
        "model = XGBClassifier()\n",
        "model.fit(X_train_transformed_sm, y_train_sm)\n",
        "\n",
        "# make predictions for test data\n",
        "y_pred_train = model.predict(X_train_transformed_sm)\n",
        "predictions = [round(value) for value in y_pred_train]\n",
        "\n",
        "# evaluate predictions\n",
        "accuracy = accuracy_score(y_train_sm, predictions)\n",
        "print(\"Training Accuracy: %.2f%%\" % (accuracy * 100.0))\n",
        "print(confusion_matrix(y_pred_train, y_train_sm))"
      ],
      "metadata": {
        "id": "LvQvHQMB1Daf",
        "colab": {
          "base_uri": "https://localhost:8080/"
        },
        "outputId": "9954ade1-c5d2-41f6-ca85-2b3f72392eac"
      },
      "execution_count": 72,
      "outputs": [
        {
          "output_type": "stream",
          "name": "stdout",
          "text": [
            "Training Accuracy: 91.64%\n",
            "[[17666  2163]\n",
            " [  951 16454]]\n"
          ]
        }
      ]
    },
    {
      "cell_type": "code",
      "source": [
        "y_pred_test = model.predict(X_test)\n",
        "predictions = [round(value) for value in y_pred_test]\n",
        "\n",
        "# evaluate predictions\n",
        "accuracy = accuracy_score(y_test, predictions)\n",
        "print(\"Test Accuracy: %.2f%%\" % (accuracy * 100.0))\n",
        "print(confusion_matrix(y_pred_test, y_test))"
      ],
      "metadata": {
        "id": "T7EKfKha1oKE",
        "colab": {
          "base_uri": "https://localhost:8080/"
        },
        "outputId": "0f187f9b-ccb0-4092-bc5b-156426f2204f"
      },
      "execution_count": 73,
      "outputs": [
        {
          "output_type": "stream",
          "name": "stdout",
          "text": [
            "Test Accuracy: 86.91%\n",
            "[[ 416 1127]\n",
            " [ 150 8064]]\n"
          ]
        }
      ]
    },
    {
      "cell_type": "markdown",
      "source": [
        "Logistic Regression --> 96 %\n",
        "Random Forest. --> 96 5\n",
        "Navie Bayes --> 94 %\n",
        "XGBoost --> 96.78 %\n",
        "So here almost except ramdom forest all other model giving 96% around so choosing XGBoost"
      ],
      "metadata": {
        "id": "ZJVNPKfmbdwV"
      }
    },
    {
      "cell_type": "code",
      "source": [
        "#Dumping to pickle file\n",
        "pickle.dump(model, open('drive/MyDrive/model.pickle', 'wb'))"
      ],
      "metadata": {
        "id": "uFlhdlGC33Fz"
      },
      "execution_count": 74,
      "outputs": []
    },
    {
      "cell_type": "code",
      "source": [
        ""
      ],
      "metadata": {
        "id": "BUX5i_HNdTgj"
      },
      "execution_count": 74,
      "outputs": []
    }
  ]
}