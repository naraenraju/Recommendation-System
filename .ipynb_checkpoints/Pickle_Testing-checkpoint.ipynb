{
 "cells": [
  {
   "cell_type": "code",
   "execution_count": 1,
   "metadata": {
    "executionInfo": {
     "elapsed": 666,
     "status": "ok",
     "timestamp": 1642337504806,
     "user": {
      "displayName": "Narayanan Arunachalam",
      "photoUrl": "https://lh3.googleusercontent.com/a-/AOh14GiS3PEte0W2iieZjiOuyyxkZWKsmarBhlio6ErTGQ=s64",
      "userId": "01986451402622201042"
     },
     "user_tz": -330
    },
    "id": "3jEjb3EwY-r5"
   },
   "outputs": [],
   "source": [
    "import pickle\n",
    "import pandas as pd\n",
    "import numpy as np\n",
    "from sklearn.feature_extraction.text import CountVectorizer\n",
    "from xgboost import XGBClassifier\n",
    "#pd.set_option('display.max_columns', 200)\n",
    "#pd.set_option('display.max_colwidth', 300)"
   ]
  },
  {
   "cell_type": "code",
   "execution_count": 2,
   "metadata": {
    "colab": {
     "base_uri": "https://localhost:8080/"
    },
    "executionInfo": {
     "elapsed": 25252,
     "status": "ok",
     "timestamp": 1642337530046,
     "user": {
      "displayName": "Narayanan Arunachalam",
      "photoUrl": "https://lh3.googleusercontent.com/a-/AOh14GiS3PEte0W2iieZjiOuyyxkZWKsmarBhlio6ErTGQ=s64",
      "userId": "01986451402622201042"
     },
     "user_tz": -330
    },
    "id": "p4EGuB3NbXyW",
    "outputId": "063b60f3-ef3a-40dc-ea6a-e4612aa7f83e"
   },
   "outputs": [
    {
     "name": "stdout",
     "output_type": "stream",
     "text": [
      "Mounted at /content/drive\n"
     ]
    }
   ],
   "source": [
    "from google.colab import drive\n",
    "drive.mount('/content/drive')"
   ]
  },
  {
   "cell_type": "code",
   "execution_count": 3,
   "metadata": {
    "executionInfo": {
     "elapsed": 664,
     "status": "ok",
     "timestamp": 1642337530698,
     "user": {
      "displayName": "Narayanan Arunachalam",
      "photoUrl": "https://lh3.googleusercontent.com/a-/AOh14GiS3PEte0W2iieZjiOuyyxkZWKsmarBhlio6ErTGQ=s64",
      "userId": "01986451402622201042"
     },
     "user_tz": -330
    },
    "id": "oQY-IWwvYv_s"
   },
   "outputs": [],
   "source": [
    "# load model from file\n",
    "loaded_model = pickle.load(open(\"drive/MyDrive/model.pickle\", \"rb\"))"
   ]
  },
  {
   "cell_type": "code",
   "execution_count": 4,
   "metadata": {
    "executionInfo": {
     "elapsed": 652,
     "status": "ok",
     "timestamp": 1642337531341,
     "user": {
      "displayName": "Narayanan Arunachalam",
      "photoUrl": "https://lh3.googleusercontent.com/a-/AOh14GiS3PEte0W2iieZjiOuyyxkZWKsmarBhlio6ErTGQ=s64",
      "userId": "01986451402622201042"
     },
     "user_tz": -330
    },
    "id": "i5HD3qwdbzuU"
   },
   "outputs": [],
   "source": [
    "loaded_vectorizer = pickle.load(open('drive/MyDrive/vectorizer.pickle', 'rb'))"
   ]
  },
  {
   "cell_type": "code",
   "execution_count": 5,
   "metadata": {
    "executionInfo": {
     "elapsed": 16,
     "status": "ok",
     "timestamp": 1642337531344,
     "user": {
      "displayName": "Narayanan Arunachalam",
      "photoUrl": "https://lh3.googleusercontent.com/a-/AOh14GiS3PEte0W2iieZjiOuyyxkZWKsmarBhlio6ErTGQ=s64",
      "userId": "01986451402622201042"
     },
     "user_tz": -330
    },
    "id": "y195aaOfdnvv"
   },
   "outputs": [],
   "source": [
    "inputs = ['I read through the reviews on here before looking in to buying one of the couples lubricants, and was ultimately disappointed that it didnt even live up to the reviews I had read. For starters, neither my boyfriend nor I could notice any sort of enhanced or captivating sensation. What we did notice, however, was the messy consistency that was reminiscent of a more liquid-y vaseline. It was difficult to clean up, and was not a pleasant, especially since it lacked the captivating sensation we had both been expecting. I am disappointed that I paid as much as I did for a lube that I wont use again, when I could just use their normal personal lubricant for 1) less money and 2) less mess.',\n",
    "       'Loved it, I am using the oneplus 8T I got this phone for my girlfriend and even though I spent like 13k extra when I got 8T I dont feel like the difference between both the phones are worth 13k. I am loving this phone.',\n",
    "       'Sleepy service, poor food quality, and when we asked why it was like this they stated that their kitchen was backed up, yet the restaurant was damn near empty.',\n",
    "       'Took an hour to get food. Food was dry and not cooked well and my friend found hair in her food. It was a busy night I get it, but worst service I have ever experienced. Go ANYWHERE else.',\n",
    "       'Bad food quality, wastage of money, we can get better food in the other hotels.',\n",
    "       'The product is very bad',\n",
    "       'I never seen such a worst product from last 2 years',\n",
    "       'Each slice was inconsistent with toppings and how cooked it was. Salad was so rotted I had to throw it away or risk food poisoning. The pasta looked crusty so I stayed away should have just stayed away from this place altogether. Awful. Anyone with more than a one star review was paid for sure.',\n",
    "       'Awful. Service from start to finish was not good. Food was okay. Paid for a meal for 3, & immediately after finishing our food we were continuously asked to leave our table. When we said no (because we paid to be there) we were met with a guilt trip, rolled eyes, and heavy sighs.']\n",
    "#inputs = ['The product is good', 'The product is good']\n",
    "simple_test = pd.DataFrame(inputs,columns =['reviews'])"
   ]
  },
  {
   "cell_type": "code",
   "execution_count": 6,
   "metadata": {
    "executionInfo": {
     "elapsed": 1243,
     "status": "ok",
     "timestamp": 1642337532575,
     "user": {
      "displayName": "Narayanan Arunachalam",
      "photoUrl": "https://lh3.googleusercontent.com/a-/AOh14GiS3PEte0W2iieZjiOuyyxkZWKsmarBhlio6ErTGQ=s64",
      "userId": "01986451402622201042"
     },
     "user_tz": -330
    },
    "id": "xmoaqeC7Y5dQ"
   },
   "outputs": [],
   "source": [
    "# load model from file\n",
    "itembaseddf = pickle.load(open(\"drive/MyDrive/itembased-df.pickle\", \"rb\"))"
   ]
  },
  {
   "cell_type": "code",
   "execution_count": 7,
   "metadata": {
    "colab": {
     "base_uri": "https://localhost:8080/",
     "height": 652
    },
    "executionInfo": {
     "elapsed": 1226,
     "status": "ok",
     "timestamp": 1642337533794,
     "user": {
      "displayName": "Narayanan Arunachalam",
      "photoUrl": "https://lh3.googleusercontent.com/a-/AOh14GiS3PEte0W2iieZjiOuyyxkZWKsmarBhlio6ErTGQ=s64",
      "userId": "01986451402622201042"
     },
     "user_tz": -330
    },
    "id": "TK4drknbxK2c",
    "outputId": "16deb1c8-13ba-42b7-ed9a-3bbe9b54811d"
   },
   "outputs": [
    {
     "data": {
      "text/html": [
       "\n",
       "  <div id=\"df-998487ca-8915-42f6-bf3c-85aac7705a52\">\n",
       "    <div class=\"colab-df-container\">\n",
       "      <div>\n",
       "<style scoped>\n",
       "    .dataframe tbody tr th:only-of-type {\n",
       "        vertical-align: middle;\n",
       "    }\n",
       "\n",
       "    .dataframe tbody tr th {\n",
       "        vertical-align: top;\n",
       "    }\n",
       "\n",
       "    .dataframe thead th {\n",
       "        text-align: right;\n",
       "    }\n",
       "</style>\n",
       "<table border=\"1\" class=\"dataframe\">\n",
       "  <thead>\n",
       "    <tr style=\"text-align: right;\">\n",
       "      <th></th>\n",
       "      <th>Unnamed: 0</th>\n",
       "      <th>id</th>\n",
       "      <th>brand</th>\n",
       "      <th>categories</th>\n",
       "      <th>manufacturer</th>\n",
       "      <th>name</th>\n",
       "      <th>reviews_date</th>\n",
       "      <th>reviews_rating</th>\n",
       "      <th>reviews_text</th>\n",
       "      <th>reviews_title</th>\n",
       "      <th>reviews_username</th>\n",
       "      <th>user_sentiment</th>\n",
       "    </tr>\n",
       "  </thead>\n",
       "  <tbody>\n",
       "    <tr>\n",
       "      <th>0</th>\n",
       "      <td>0</td>\n",
       "      <td>AV13O1A8GV-KLJ3akUyj</td>\n",
       "      <td>Universal Music</td>\n",
       "      <td>Movies, Music &amp; Books,Music,R&amp;b,Movies &amp; TV,Mo...</td>\n",
       "      <td>Universal Music Group / Cash Money</td>\n",
       "      <td>Pink Friday: Roman Reloaded Re-Up (w/dvd)</td>\n",
       "      <td>2012-11-30T06:21:45.000Z</td>\n",
       "      <td>5</td>\n",
       "      <td>love album good hip hop side current pop sound...</td>\n",
       "      <td>Just Awesome</td>\n",
       "      <td>joshua</td>\n",
       "      <td>1</td>\n",
       "    </tr>\n",
       "    <tr>\n",
       "      <th>1</th>\n",
       "      <td>1</td>\n",
       "      <td>AV14LG0R-jtxr-f38QfS</td>\n",
       "      <td>Lundberg</td>\n",
       "      <td>Food,Packaged Foods,Snacks,Crackers,Snacks, Co...</td>\n",
       "      <td>Lundberg</td>\n",
       "      <td>Lundberg Organic Cinnamon Toast Rice Cakes</td>\n",
       "      <td>2017-07-09T00:00:00.000Z</td>\n",
       "      <td>5</td>\n",
       "      <td>good flavor this review collected part promotion</td>\n",
       "      <td>Good</td>\n",
       "      <td>dorothy w</td>\n",
       "      <td>1</td>\n",
       "    </tr>\n",
       "    <tr>\n",
       "      <th>2</th>\n",
       "      <td>2</td>\n",
       "      <td>AV14LG0R-jtxr-f38QfS</td>\n",
       "      <td>Lundberg</td>\n",
       "      <td>Food,Packaged Foods,Snacks,Crackers,Snacks, Co...</td>\n",
       "      <td>Lundberg</td>\n",
       "      <td>Lundberg Organic Cinnamon Toast Rice Cakes</td>\n",
       "      <td>2017-07-09T00:00:00.000Z</td>\n",
       "      <td>5</td>\n",
       "      <td>good flavor</td>\n",
       "      <td>Good</td>\n",
       "      <td>dorothy w</td>\n",
       "      <td>1</td>\n",
       "    </tr>\n",
       "    <tr>\n",
       "      <th>3</th>\n",
       "      <td>3</td>\n",
       "      <td>AV16khLE-jtxr-f38VFn</td>\n",
       "      <td>K-Y</td>\n",
       "      <td>Personal Care,Medicine Cabinet,Lubricant/Sperm...</td>\n",
       "      <td>K-Y</td>\n",
       "      <td>K-Y Love Sensuality Pleasure Gel</td>\n",
       "      <td>2016-01-06T00:00:00.000Z</td>\n",
       "      <td>1</td>\n",
       "      <td>i read reviews looking buying one couples lubr...</td>\n",
       "      <td>Disappointed</td>\n",
       "      <td>rebecca</td>\n",
       "      <td>0</td>\n",
       "    </tr>\n",
       "    <tr>\n",
       "      <th>4</th>\n",
       "      <td>4</td>\n",
       "      <td>AV16khLE-jtxr-f38VFn</td>\n",
       "      <td>K-Y</td>\n",
       "      <td>Personal Care,Medicine Cabinet,Lubricant/Sperm...</td>\n",
       "      <td>K-Y</td>\n",
       "      <td>K-Y Love Sensuality Pleasure Gel</td>\n",
       "      <td>2016-12-21T00:00:00.000Z</td>\n",
       "      <td>1</td>\n",
       "      <td>my husband bought gel us the gel caused irrita...</td>\n",
       "      <td>Irritation</td>\n",
       "      <td>walker557</td>\n",
       "      <td>0</td>\n",
       "    </tr>\n",
       "  </tbody>\n",
       "</table>\n",
       "</div>\n",
       "      <button class=\"colab-df-convert\" onclick=\"convertToInteractive('df-998487ca-8915-42f6-bf3c-85aac7705a52')\"\n",
       "              title=\"Convert this dataframe to an interactive table.\"\n",
       "              style=\"display:none;\">\n",
       "        \n",
       "  <svg xmlns=\"http://www.w3.org/2000/svg\" height=\"24px\"viewBox=\"0 0 24 24\"\n",
       "       width=\"24px\">\n",
       "    <path d=\"M0 0h24v24H0V0z\" fill=\"none\"/>\n",
       "    <path d=\"M18.56 5.44l.94 2.06.94-2.06 2.06-.94-2.06-.94-.94-2.06-.94 2.06-2.06.94zm-11 1L8.5 8.5l.94-2.06 2.06-.94-2.06-.94L8.5 2.5l-.94 2.06-2.06.94zm10 10l.94 2.06.94-2.06 2.06-.94-2.06-.94-.94-2.06-.94 2.06-2.06.94z\"/><path d=\"M17.41 7.96l-1.37-1.37c-.4-.4-.92-.59-1.43-.59-.52 0-1.04.2-1.43.59L10.3 9.45l-7.72 7.72c-.78.78-.78 2.05 0 2.83L4 21.41c.39.39.9.59 1.41.59.51 0 1.02-.2 1.41-.59l7.78-7.78 2.81-2.81c.8-.78.8-2.07 0-2.86zM5.41 20L4 18.59l7.72-7.72 1.47 1.35L5.41 20z\"/>\n",
       "  </svg>\n",
       "      </button>\n",
       "      \n",
       "  <style>\n",
       "    .colab-df-container {\n",
       "      display:flex;\n",
       "      flex-wrap:wrap;\n",
       "      gap: 12px;\n",
       "    }\n",
       "\n",
       "    .colab-df-convert {\n",
       "      background-color: #E8F0FE;\n",
       "      border: none;\n",
       "      border-radius: 50%;\n",
       "      cursor: pointer;\n",
       "      display: none;\n",
       "      fill: #1967D2;\n",
       "      height: 32px;\n",
       "      padding: 0 0 0 0;\n",
       "      width: 32px;\n",
       "    }\n",
       "\n",
       "    .colab-df-convert:hover {\n",
       "      background-color: #E2EBFA;\n",
       "      box-shadow: 0px 1px 2px rgba(60, 64, 67, 0.3), 0px 1px 3px 1px rgba(60, 64, 67, 0.15);\n",
       "      fill: #174EA6;\n",
       "    }\n",
       "\n",
       "    [theme=dark] .colab-df-convert {\n",
       "      background-color: #3B4455;\n",
       "      fill: #D2E3FC;\n",
       "    }\n",
       "\n",
       "    [theme=dark] .colab-df-convert:hover {\n",
       "      background-color: #434B5C;\n",
       "      box-shadow: 0px 1px 3px 1px rgba(0, 0, 0, 0.15);\n",
       "      filter: drop-shadow(0px 1px 2px rgba(0, 0, 0, 0.3));\n",
       "      fill: #FFFFFF;\n",
       "    }\n",
       "  </style>\n",
       "\n",
       "      <script>\n",
       "        const buttonEl =\n",
       "          document.querySelector('#df-998487ca-8915-42f6-bf3c-85aac7705a52 button.colab-df-convert');\n",
       "        buttonEl.style.display =\n",
       "          google.colab.kernel.accessAllowed ? 'block' : 'none';\n",
       "\n",
       "        async function convertToInteractive(key) {\n",
       "          const element = document.querySelector('#df-998487ca-8915-42f6-bf3c-85aac7705a52');\n",
       "          const dataTable =\n",
       "            await google.colab.kernel.invokeFunction('convertToInteractive',\n",
       "                                                     [key], {});\n",
       "          if (!dataTable) return;\n",
       "\n",
       "          const docLinkHtml = 'Like what you see? Visit the ' +\n",
       "            '<a target=\"_blank\" href=https://colab.research.google.com/notebooks/data_table.ipynb>data table notebook</a>'\n",
       "            + ' to learn more about interactive tables.';\n",
       "          element.innerHTML = '';\n",
       "          dataTable['output_type'] = 'display_data';\n",
       "          await google.colab.output.renderOutput(dataTable, element);\n",
       "          const docLink = document.createElement('div');\n",
       "          docLink.innerHTML = docLinkHtml;\n",
       "          element.appendChild(docLink);\n",
       "        }\n",
       "      </script>\n",
       "    </div>\n",
       "  </div>\n",
       "  "
      ],
      "text/plain": [
       "   Unnamed: 0                    id  ... reviews_username user_sentiment\n",
       "0           0  AV13O1A8GV-KLJ3akUyj  ...           joshua              1\n",
       "1           1  AV14LG0R-jtxr-f38QfS  ...        dorothy w              1\n",
       "2           2  AV14LG0R-jtxr-f38QfS  ...        dorothy w              1\n",
       "3           3  AV16khLE-jtxr-f38VFn  ...          rebecca              0\n",
       "4           4  AV16khLE-jtxr-f38VFn  ...        walker557              0\n",
       "\n",
       "[5 rows x 12 columns]"
      ]
     },
     "execution_count": 7,
     "metadata": {},
     "output_type": "execute_result"
    }
   ],
   "source": [
    "ratings = pd.read_csv('drive/MyDrive/clean_text.csv' , encoding='latin-1')\n",
    "ratings.head()"
   ]
  },
  {
   "cell_type": "code",
   "execution_count": 8,
   "metadata": {
    "executionInfo": {
     "elapsed": 23,
     "status": "ok",
     "timestamp": 1642337533797,
     "user": {
      "displayName": "Narayanan Arunachalam",
      "photoUrl": "https://lh3.googleusercontent.com/a-/AOh14GiS3PEte0W2iieZjiOuyyxkZWKsmarBhlio6ErTGQ=s64",
      "userId": "01986451402622201042"
     },
     "user_tz": -330
    },
    "id": "a6_A96GqY2NF"
   },
   "outputs": [],
   "source": [
    "def sentiment_predict(reviews_text):\n",
    "  #print(reviews_text)\n",
    "  test_data = CountVectorizer(vocabulary=loaded_vectorizer.get_feature_names_out())\n",
    "  X_test_value = test_data.fit_transform(reviews_text)\n",
    "  sentiment_output = pd.DataFrame(loaded_model.predict(X_test_value), columns=['sentiment'])\n",
    "  reviews_text.reset_index(drop=True, inplace=True)\n",
    "  sentiment_output.reset_index(drop=True, inplace=True) \n",
    "  sentiment_output = pd.concat([reviews_text, sentiment_output], axis=1)\n",
    "  return sentiment_output"
   ]
  },
  {
   "cell_type": "code",
   "execution_count": 9,
   "metadata": {
    "colab": {
     "base_uri": "https://localhost:8080/"
    },
    "executionInfo": {
     "elapsed": 769,
     "status": "ok",
     "timestamp": 1642337534544,
     "user": {
      "displayName": "Narayanan Arunachalam",
      "photoUrl": "https://lh3.googleusercontent.com/a-/AOh14GiS3PEte0W2iieZjiOuyyxkZWKsmarBhlio6ErTGQ=s64",
      "userId": "01986451402622201042"
     },
     "user_tz": -330
    },
    "id": "TIS2TfYXxADg",
    "outputId": "afdd344e-97f5-49d9-ded2-3ecb7aa52a8c"
   },
   "outputs": [
    {
     "name": "stdout",
     "output_type": "stream",
     "text": [
      "247\n",
      "(247, 3)\n",
      "845\n",
      "(1092, 3)\n",
      "186\n",
      "(1278, 3)\n",
      "158\n",
      "(1436, 3)\n",
      "672\n",
      "(2108, 3)\n",
      "634\n",
      "(2742, 3)\n",
      "2039\n",
      "(4781, 3)\n",
      "1139\n",
      "(5920, 3)\n",
      "9\n",
      "(5929, 3)\n",
      "12\n",
      "(5941, 3)\n",
      "103\n",
      "(6044, 3)\n",
      "1\n",
      "(6045, 3)\n",
      "1\n",
      "(6046, 3)\n",
      "2\n",
      "(6048, 3)\n",
      "1\n",
      "(6049, 3)\n",
      "7\n",
      "(6056, 3)\n",
      "6\n",
      "(6062, 3)\n",
      "85\n",
      "(6147, 3)\n",
      "22\n",
      "(6169, 3)\n",
      "3324\n",
      "(9493, 3)\n"
     ]
    }
   ],
   "source": [
    "#Recommending top 20 products\n",
    "top_recommended_products = pd.DataFrame(itembaseddf.loc['08dallas'].sort_values(ascending=False)[0:20])\n",
    "sentimetment_result_df = pd.DataFrame()\n",
    "for index, row in top_recommended_products.iterrows():\n",
    "  product_reviews = ratings[ratings['name'].isin([row.name])].reviews_text\n",
    "  print(len(product_reviews))\n",
    "  sentimetment_result = sentiment_predict(product_reviews)\n",
    " #print(sentimetment_result.sentiment.value_counts)\n",
    "  sentimetment_result['name'] = row.name\n",
    "  sentimetment_result_df = sentimetment_result_df.append(sentimetment_result)\n",
    "  print(sentimetment_result_df.shape)"
   ]
  },
  {
   "cell_type": "code",
   "execution_count": 10,
   "metadata": {
    "executionInfo": {
     "elapsed": 33,
     "status": "ok",
     "timestamp": 1642337534547,
     "user": {
      "displayName": "Narayanan Arunachalam",
      "photoUrl": "https://lh3.googleusercontent.com/a-/AOh14GiS3PEte0W2iieZjiOuyyxkZWKsmarBhlio6ErTGQ=s64",
      "userId": "01986451402622201042"
     },
     "user_tz": -330
    },
    "id": "QYPJi49hqYfI"
   },
   "outputs": [],
   "source": [
    "gb = sentimetment_result_df.groupby(['name','sentiment']).size().reset_index(name='counts')"
   ]
  },
  {
   "cell_type": "code",
   "execution_count": 11,
   "metadata": {
    "executionInfo": {
     "elapsed": 38,
     "status": "ok",
     "timestamp": 1642337534553,
     "user": {
      "displayName": "Narayanan Arunachalam",
      "photoUrl": "https://lh3.googleusercontent.com/a-/AOh14GiS3PEte0W2iieZjiOuyyxkZWKsmarBhlio6ErTGQ=s64",
      "userId": "01986451402622201042"
     },
     "user_tz": -330
    },
    "id": "xE5GPDV6uFy3"
   },
   "outputs": [],
   "source": [
    "gb_total = sentimetment_result_df.groupby(['name']).size().reset_index(name='total_counts')"
   ]
  },
  {
   "cell_type": "code",
   "execution_count": 12,
   "metadata": {
    "executionInfo": {
     "elapsed": 38,
     "status": "ok",
     "timestamp": 1642337534555,
     "user": {
      "displayName": "Narayanan Arunachalam",
      "photoUrl": "https://lh3.googleusercontent.com/a-/AOh14GiS3PEte0W2iieZjiOuyyxkZWKsmarBhlio6ErTGQ=s64",
      "userId": "01986451402622201042"
     },
     "user_tz": -330
    },
    "id": "V2N1BkTGq15D"
   },
   "outputs": [],
   "source": [
    "gb = pd.merge(gb,gb_total[['name','total_counts']],on='name', how='right')"
   ]
  },
  {
   "cell_type": "code",
   "execution_count": 13,
   "metadata": {
    "executionInfo": {
     "elapsed": 41,
     "status": "ok",
     "timestamp": 1642337534559,
     "user": {
      "displayName": "Narayanan Arunachalam",
      "photoUrl": "https://lh3.googleusercontent.com/a-/AOh14GiS3PEte0W2iieZjiOuyyxkZWKsmarBhlio6ErTGQ=s64",
      "userId": "01986451402622201042"
     },
     "user_tz": -330
    },
    "id": "iEesiqRW2Iyr"
   },
   "outputs": [],
   "source": [
    "gb['percentage'] = (gb['counts']/gb['total_counts'])*100"
   ]
  },
  {
   "cell_type": "code",
   "execution_count": 14,
   "metadata": {
    "executionInfo": {
     "elapsed": 43,
     "status": "ok",
     "timestamp": 1642337534562,
     "user": {
      "displayName": "Narayanan Arunachalam",
      "photoUrl": "https://lh3.googleusercontent.com/a-/AOh14GiS3PEte0W2iieZjiOuyyxkZWKsmarBhlio6ErTGQ=s64",
      "userId": "01986451402622201042"
     },
     "user_tz": -330
    },
    "id": "00bIM2XM2xBd"
   },
   "outputs": [],
   "source": [
    "gb_final = gb[(gb['percentage'] >=50) & (gb['sentiment'] == 1)]"
   ]
  },
  {
   "cell_type": "code",
   "execution_count": 15,
   "metadata": {
    "colab": {
     "base_uri": "https://localhost:8080/",
     "height": 582
    },
    "executionInfo": {
     "elapsed": 43,
     "status": "ok",
     "timestamp": 1642337534563,
     "user": {
      "displayName": "Narayanan Arunachalam",
      "photoUrl": "https://lh3.googleusercontent.com/a-/AOh14GiS3PEte0W2iieZjiOuyyxkZWKsmarBhlio6ErTGQ=s64",
      "userId": "01986451402622201042"
     },
     "user_tz": -330
    },
    "id": "YvWOUTcn3RAf",
    "outputId": "2263ca7e-2f8a-4c8e-dc7f-150c29fea47a"
   },
   "outputs": [
    {
     "data": {
      "text/html": [
       "\n",
       "  <div id=\"df-dd1434b0-114c-4019-b7ae-d884409af198\">\n",
       "    <div class=\"colab-df-container\">\n",
       "      <div>\n",
       "<style scoped>\n",
       "    .dataframe tbody tr th:only-of-type {\n",
       "        vertical-align: middle;\n",
       "    }\n",
       "\n",
       "    .dataframe tbody tr th {\n",
       "        vertical-align: top;\n",
       "    }\n",
       "\n",
       "    .dataframe thead th {\n",
       "        text-align: right;\n",
       "    }\n",
       "</style>\n",
       "<table border=\"1\" class=\"dataframe\">\n",
       "  <thead>\n",
       "    <tr style=\"text-align: right;\">\n",
       "      <th></th>\n",
       "      <th>name</th>\n",
       "      <th>sentiment</th>\n",
       "      <th>counts</th>\n",
       "      <th>total_counts</th>\n",
       "      <th>percentage</th>\n",
       "    </tr>\n",
       "  </thead>\n",
       "  <tbody>\n",
       "    <tr>\n",
       "      <th>1</th>\n",
       "      <td>Clorox Disinfecting Bathroom Cleaner</td>\n",
       "      <td>1</td>\n",
       "      <td>1808</td>\n",
       "      <td>2039</td>\n",
       "      <td>88.670917</td>\n",
       "    </tr>\n",
       "    <tr>\n",
       "      <th>3</th>\n",
       "      <td>Coty Airspun Face Powder, Translucent Extra Co...</td>\n",
       "      <td>1</td>\n",
       "      <td>112</td>\n",
       "      <td>158</td>\n",
       "      <td>70.886076</td>\n",
       "    </tr>\n",
       "    <tr>\n",
       "      <th>5</th>\n",
       "      <td>Creme Of Nature Intensive Conditioning Treatme...</td>\n",
       "      <td>1</td>\n",
       "      <td>6</td>\n",
       "      <td>12</td>\n",
       "      <td>50.000000</td>\n",
       "    </tr>\n",
       "    <tr>\n",
       "      <th>7</th>\n",
       "      <td>Cuisinart174 Electric Juicer - Stainless Steel...</td>\n",
       "      <td>1</td>\n",
       "      <td>78</td>\n",
       "      <td>103</td>\n",
       "      <td>75.728155</td>\n",
       "    </tr>\n",
       "    <tr>\n",
       "      <th>11</th>\n",
       "      <td>Dark Shadows (includes Digital Copy) (ultravio...</td>\n",
       "      <td>1</td>\n",
       "      <td>196</td>\n",
       "      <td>247</td>\n",
       "      <td>79.352227</td>\n",
       "    </tr>\n",
       "    <tr>\n",
       "      <th>13</th>\n",
       "      <td>Godzilla 3d Includes Digital Copy Ultraviolet ...</td>\n",
       "      <td>1</td>\n",
       "      <td>2643</td>\n",
       "      <td>3324</td>\n",
       "      <td>79.512635</td>\n",
       "    </tr>\n",
       "    <tr>\n",
       "      <th>14</th>\n",
       "      <td>Happy Tot Apple and Butternut Squash</td>\n",
       "      <td>1</td>\n",
       "      <td>9</td>\n",
       "      <td>9</td>\n",
       "      <td>100.000000</td>\n",
       "    </tr>\n",
       "    <tr>\n",
       "      <th>16</th>\n",
       "      <td>Hawaiian Punch Berry Limeade Blast Juice</td>\n",
       "      <td>1</td>\n",
       "      <td>17</td>\n",
       "      <td>22</td>\n",
       "      <td>77.272727</td>\n",
       "    </tr>\n",
       "    <tr>\n",
       "      <th>18</th>\n",
       "      <td>Head &amp; Shoulders Classic Clean Conditioner</td>\n",
       "      <td>1</td>\n",
       "      <td>70</td>\n",
       "      <td>85</td>\n",
       "      <td>82.352941</td>\n",
       "    </tr>\n",
       "    <tr>\n",
       "      <th>22</th>\n",
       "      <td>Heiress (dvd)</td>\n",
       "      <td>1</td>\n",
       "      <td>2</td>\n",
       "      <td>2</td>\n",
       "      <td>100.000000</td>\n",
       "    </tr>\n",
       "    <tr>\n",
       "      <th>23</th>\n",
       "      <td>Herr's Baked Cheese Curls</td>\n",
       "      <td>1</td>\n",
       "      <td>1</td>\n",
       "      <td>1</td>\n",
       "      <td>100.000000</td>\n",
       "    </tr>\n",
       "    <tr>\n",
       "      <th>24</th>\n",
       "      <td>High-Dome Floor Door Stop</td>\n",
       "      <td>1</td>\n",
       "      <td>1</td>\n",
       "      <td>1</td>\n",
       "      <td>100.000000</td>\n",
       "    </tr>\n",
       "    <tr>\n",
       "      <th>26</th>\n",
       "      <td>Olay Regenerist Deep Hydration Regenerating Cream</td>\n",
       "      <td>1</td>\n",
       "      <td>515</td>\n",
       "      <td>634</td>\n",
       "      <td>81.230284</td>\n",
       "    </tr>\n",
       "    <tr>\n",
       "      <th>28</th>\n",
       "      <td>Planes: Fire Rescue (2 Discs) (includes Digita...</td>\n",
       "      <td>1</td>\n",
       "      <td>929</td>\n",
       "      <td>1139</td>\n",
       "      <td>81.562774</td>\n",
       "    </tr>\n",
       "    <tr>\n",
       "      <th>30</th>\n",
       "      <td>Red (special Edition) (dvdvideo)</td>\n",
       "      <td>1</td>\n",
       "      <td>556</td>\n",
       "      <td>672</td>\n",
       "      <td>82.738095</td>\n",
       "    </tr>\n",
       "    <tr>\n",
       "      <th>32</th>\n",
       "      <td>Stargate (ws) (ultimate Edition) (director's C...</td>\n",
       "      <td>1</td>\n",
       "      <td>158</td>\n",
       "      <td>186</td>\n",
       "      <td>84.946237</td>\n",
       "    </tr>\n",
       "    <tr>\n",
       "      <th>34</th>\n",
       "      <td>The Resident Evil Collection 5 Discs (blu-Ray)</td>\n",
       "      <td>1</td>\n",
       "      <td>628</td>\n",
       "      <td>845</td>\n",
       "      <td>74.319527</td>\n",
       "    </tr>\n",
       "  </tbody>\n",
       "</table>\n",
       "</div>\n",
       "      <button class=\"colab-df-convert\" onclick=\"convertToInteractive('df-dd1434b0-114c-4019-b7ae-d884409af198')\"\n",
       "              title=\"Convert this dataframe to an interactive table.\"\n",
       "              style=\"display:none;\">\n",
       "        \n",
       "  <svg xmlns=\"http://www.w3.org/2000/svg\" height=\"24px\"viewBox=\"0 0 24 24\"\n",
       "       width=\"24px\">\n",
       "    <path d=\"M0 0h24v24H0V0z\" fill=\"none\"/>\n",
       "    <path d=\"M18.56 5.44l.94 2.06.94-2.06 2.06-.94-2.06-.94-.94-2.06-.94 2.06-2.06.94zm-11 1L8.5 8.5l.94-2.06 2.06-.94-2.06-.94L8.5 2.5l-.94 2.06-2.06.94zm10 10l.94 2.06.94-2.06 2.06-.94-2.06-.94-.94-2.06-.94 2.06-2.06.94z\"/><path d=\"M17.41 7.96l-1.37-1.37c-.4-.4-.92-.59-1.43-.59-.52 0-1.04.2-1.43.59L10.3 9.45l-7.72 7.72c-.78.78-.78 2.05 0 2.83L4 21.41c.39.39.9.59 1.41.59.51 0 1.02-.2 1.41-.59l7.78-7.78 2.81-2.81c.8-.78.8-2.07 0-2.86zM5.41 20L4 18.59l7.72-7.72 1.47 1.35L5.41 20z\"/>\n",
       "  </svg>\n",
       "      </button>\n",
       "      \n",
       "  <style>\n",
       "    .colab-df-container {\n",
       "      display:flex;\n",
       "      flex-wrap:wrap;\n",
       "      gap: 12px;\n",
       "    }\n",
       "\n",
       "    .colab-df-convert {\n",
       "      background-color: #E8F0FE;\n",
       "      border: none;\n",
       "      border-radius: 50%;\n",
       "      cursor: pointer;\n",
       "      display: none;\n",
       "      fill: #1967D2;\n",
       "      height: 32px;\n",
       "      padding: 0 0 0 0;\n",
       "      width: 32px;\n",
       "    }\n",
       "\n",
       "    .colab-df-convert:hover {\n",
       "      background-color: #E2EBFA;\n",
       "      box-shadow: 0px 1px 2px rgba(60, 64, 67, 0.3), 0px 1px 3px 1px rgba(60, 64, 67, 0.15);\n",
       "      fill: #174EA6;\n",
       "    }\n",
       "\n",
       "    [theme=dark] .colab-df-convert {\n",
       "      background-color: #3B4455;\n",
       "      fill: #D2E3FC;\n",
       "    }\n",
       "\n",
       "    [theme=dark] .colab-df-convert:hover {\n",
       "      background-color: #434B5C;\n",
       "      box-shadow: 0px 1px 3px 1px rgba(0, 0, 0, 0.15);\n",
       "      filter: drop-shadow(0px 1px 2px rgba(0, 0, 0, 0.3));\n",
       "      fill: #FFFFFF;\n",
       "    }\n",
       "  </style>\n",
       "\n",
       "      <script>\n",
       "        const buttonEl =\n",
       "          document.querySelector('#df-dd1434b0-114c-4019-b7ae-d884409af198 button.colab-df-convert');\n",
       "        buttonEl.style.display =\n",
       "          google.colab.kernel.accessAllowed ? 'block' : 'none';\n",
       "\n",
       "        async function convertToInteractive(key) {\n",
       "          const element = document.querySelector('#df-dd1434b0-114c-4019-b7ae-d884409af198');\n",
       "          const dataTable =\n",
       "            await google.colab.kernel.invokeFunction('convertToInteractive',\n",
       "                                                     [key], {});\n",
       "          if (!dataTable) return;\n",
       "\n",
       "          const docLinkHtml = 'Like what you see? Visit the ' +\n",
       "            '<a target=\"_blank\" href=https://colab.research.google.com/notebooks/data_table.ipynb>data table notebook</a>'\n",
       "            + ' to learn more about interactive tables.';\n",
       "          element.innerHTML = '';\n",
       "          dataTable['output_type'] = 'display_data';\n",
       "          await google.colab.output.renderOutput(dataTable, element);\n",
       "          const docLink = document.createElement('div');\n",
       "          docLink.innerHTML = docLinkHtml;\n",
       "          element.appendChild(docLink);\n",
       "        }\n",
       "      </script>\n",
       "    </div>\n",
       "  </div>\n",
       "  "
      ],
      "text/plain": [
       "                                                 name  ...  percentage\n",
       "1                Clorox Disinfecting Bathroom Cleaner  ...   88.670917\n",
       "3   Coty Airspun Face Powder, Translucent Extra Co...  ...   70.886076\n",
       "5   Creme Of Nature Intensive Conditioning Treatme...  ...   50.000000\n",
       "7   Cuisinart174 Electric Juicer - Stainless Steel...  ...   75.728155\n",
       "11  Dark Shadows (includes Digital Copy) (ultravio...  ...   79.352227\n",
       "13  Godzilla 3d Includes Digital Copy Ultraviolet ...  ...   79.512635\n",
       "14               Happy Tot Apple and Butternut Squash  ...  100.000000\n",
       "16           Hawaiian Punch Berry Limeade Blast Juice  ...   77.272727\n",
       "18         Head & Shoulders Classic Clean Conditioner  ...   82.352941\n",
       "22                                      Heiress (dvd)  ...  100.000000\n",
       "23                          Herr's Baked Cheese Curls  ...  100.000000\n",
       "24                          High-Dome Floor Door Stop  ...  100.000000\n",
       "26  Olay Regenerist Deep Hydration Regenerating Cream  ...   81.230284\n",
       "28  Planes: Fire Rescue (2 Discs) (includes Digita...  ...   81.562774\n",
       "30                   Red (special Edition) (dvdvideo)  ...   82.738095\n",
       "32  Stargate (ws) (ultimate Edition) (director's C...  ...   84.946237\n",
       "34     The Resident Evil Collection 5 Discs (blu-Ray)  ...   74.319527\n",
       "\n",
       "[17 rows x 5 columns]"
      ]
     },
     "execution_count": 15,
     "metadata": {},
     "output_type": "execute_result"
    }
   ],
   "source": [
    "gb_final"
   ]
  },
  {
   "cell_type": "code",
   "execution_count": 16,
   "metadata": {
    "colab": {
     "base_uri": "https://localhost:8080/"
    },
    "executionInfo": {
     "elapsed": 4576,
     "status": "ok",
     "timestamp": 1642337539103,
     "user": {
      "displayName": "Narayanan Arunachalam",
      "photoUrl": "https://lh3.googleusercontent.com/a-/AOh14GiS3PEte0W2iieZjiOuyyxkZWKsmarBhlio6ErTGQ=s64",
      "userId": "01986451402622201042"
     },
     "user_tz": -330
    },
    "id": "gjfBk_on7Evw",
    "outputId": "cb919088-a62c-4e07-b08e-83566699abf6"
   },
   "outputs": [
    {
     "name": "stdout",
     "output_type": "stream",
     "text": [
      "Collecting flask-ngrok\n",
      "  Downloading flask_ngrok-0.0.25-py3-none-any.whl (3.1 kB)\n",
      "Requirement already satisfied: Flask>=0.8 in /usr/local/lib/python3.7/dist-packages (from flask-ngrok) (1.1.4)\n",
      "Requirement already satisfied: requests in /usr/local/lib/python3.7/dist-packages (from flask-ngrok) (2.23.0)\n",
      "Requirement already satisfied: click<8.0,>=5.1 in /usr/local/lib/python3.7/dist-packages (from Flask>=0.8->flask-ngrok) (7.1.2)\n",
      "Requirement already satisfied: itsdangerous<2.0,>=0.24 in /usr/local/lib/python3.7/dist-packages (from Flask>=0.8->flask-ngrok) (1.1.0)\n",
      "Requirement already satisfied: Werkzeug<2.0,>=0.15 in /usr/local/lib/python3.7/dist-packages (from Flask>=0.8->flask-ngrok) (1.0.1)\n",
      "Requirement already satisfied: Jinja2<3.0,>=2.10.1 in /usr/local/lib/python3.7/dist-packages (from Flask>=0.8->flask-ngrok) (2.11.3)\n",
      "Requirement already satisfied: MarkupSafe>=0.23 in /usr/local/lib/python3.7/dist-packages (from Jinja2<3.0,>=2.10.1->Flask>=0.8->flask-ngrok) (2.0.1)\n",
      "Requirement already satisfied: chardet<4,>=3.0.2 in /usr/local/lib/python3.7/dist-packages (from requests->flask-ngrok) (3.0.4)\n",
      "Requirement already satisfied: idna<3,>=2.5 in /usr/local/lib/python3.7/dist-packages (from requests->flask-ngrok) (2.10)\n",
      "Requirement already satisfied: certifi>=2017.4.17 in /usr/local/lib/python3.7/dist-packages (from requests->flask-ngrok) (2021.10.8)\n",
      "Requirement already satisfied: urllib3!=1.25.0,!=1.25.1,<1.26,>=1.21.1 in /usr/local/lib/python3.7/dist-packages (from requests->flask-ngrok) (1.24.3)\n",
      "Installing collected packages: flask-ngrok\n",
      "Successfully installed flask-ngrok-0.0.25\n"
     ]
    }
   ],
   "source": [
    "!pip install flask-ngrok"
   ]
  },
  {
   "cell_type": "code",
   "execution_count": 17,
   "metadata": {
    "colab": {
     "base_uri": "https://localhost:8080/"
    },
    "executionInfo": {
     "elapsed": 181310,
     "status": "ok",
     "timestamp": 1642337720397,
     "user": {
      "displayName": "Narayanan Arunachalam",
      "photoUrl": "https://lh3.googleusercontent.com/a-/AOh14GiS3PEte0W2iieZjiOuyyxkZWKsmarBhlio6ErTGQ=s64",
      "userId": "01986451402622201042"
     },
     "user_tz": -330
    },
    "id": "YMRYbSiB3i22",
    "outputId": "d92b53ef-156f-4378-d8d7-d777860a8ce2"
   },
   "outputs": [
    {
     "name": "stdout",
     "output_type": "stream",
     "text": [
      " * Serving Flask app \"__main__\" (lazy loading)\n",
      " * Environment: production\n",
      "\u001b[31m   WARNING: This is a development server. Do not use it in a production deployment.\u001b[0m\n",
      "\u001b[2m   Use a production WSGI server instead.\u001b[0m\n",
      " * Debug mode: off\n"
     ]
    },
    {
     "name": "stderr",
     "output_type": "stream",
     "text": [
      " * Running on http://127.0.0.1:5000/ (Press CTRL+C to quit)\n"
     ]
    },
    {
     "name": "stdout",
     "output_type": "stream",
     "text": [
      " * Running on http://c2c8-35-247-67-16.ngrok.io\n",
      " * Traffic stats available on http://127.0.0.1:4040\n"
     ]
    }
   ],
   "source": [
    "# Importing flask module in the project is mandatory\n",
    "# An object of Flask class is our WSGI application.\n",
    "from flask import Flask\n",
    "from flask_ngrok import run_with_ngrok\n",
    "  \n",
    "# Flask constructor takes the name of \n",
    "# current module (__name__) as argument.\n",
    "app = Flask(__name__)\n",
    "run_with_ngrok(app) \n",
    "  \n",
    "# The route() function of the Flask class is a decorator, \n",
    "# which tells the application which URL should call \n",
    "# the associated function.\n",
    "@app.route('/')\n",
    "# ‘/’ URL is bound with hello_world() function.\n",
    "def hello_world():\n",
    "    return 'Hello World'\n",
    "  \n",
    "# main driver function\n",
    "if __name__ == '__main__':\n",
    "  \n",
    "    # run() method of Flask class runs the application \n",
    "    # on the local development server.\n",
    "    app.run()"
   ]
  },
  {
   "cell_type": "code",
   "execution_count": 17,
   "metadata": {
    "executionInfo": {
     "elapsed": 19,
     "status": "ok",
     "timestamp": 1642337720400,
     "user": {
      "displayName": "Narayanan Arunachalam",
      "photoUrl": "https://lh3.googleusercontent.com/a-/AOh14GiS3PEte0W2iieZjiOuyyxkZWKsmarBhlio6ErTGQ=s64",
      "userId": "01986451402622201042"
     },
     "user_tz": -330
    },
    "id": "z5W7DKWY7DAb"
   },
   "outputs": [],
   "source": []
  }
 ],
 "metadata": {
  "colab": {
   "authorship_tag": "ABX9TyNG1TsCAf8ttMZQjqwQdMVm",
   "collapsed_sections": [],
   "name": "Pickle_Testing.ipynb",
   "provenance": []
  },
  "kernelspec": {
   "display_name": "Python 3",
   "language": "python",
   "name": "python3"
  },
  "language_info": {
   "codemirror_mode": {
    "name": "ipython",
    "version": 3
   },
   "file_extension": ".py",
   "mimetype": "text/x-python",
   "name": "python",
   "nbconvert_exporter": "python",
   "pygments_lexer": "ipython3",
   "version": "3.8.10"
  }
 },
 "nbformat": 4,
 "nbformat_minor": 1
}
